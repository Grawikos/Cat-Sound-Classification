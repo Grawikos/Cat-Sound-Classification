{
 "cells": [
  {
   "cell_type": "markdown",
   "id": "e77358ce-2b59-4bc6-9efb-c80e0208ad79",
   "metadata": {},
   "source": [
    "# Classification of cats based on their meows"
   ]
  },
  {
   "cell_type": "code",
   "execution_count": 38,
   "id": "f10bc626-36e6-4af8-9a3e-591721aba58a",
   "metadata": {},
   "outputs": [],
   "source": [
    "import librosa\n",
    "import os\n",
    "import matplotlib.pyplot as plt\n",
    "import numpy as np\n",
    "import pandas as pd"
   ]
  },
  {
   "cell_type": "markdown",
   "id": "0bcd3c90-9e8a-4b5c-9d2f-9e011c804958",
   "metadata": {},
   "source": [
    "## Define procedures"
   ]
  },
  {
   "cell_type": "markdown",
   "id": "bac513bd-48e4-48bf-b22d-b674087ca1b0",
   "metadata": {},
   "source": [
    "### 1. Extracting features from audio file used later for classification"
   ]
  },
  {
   "cell_type": "code",
   "execution_count": 39,
   "id": "d76bbd1f-8c62-4790-acf1-62b19da55b1e",
   "metadata": {},
   "outputs": [],
   "source": [
    "def extract_features_from_waveform(data, sr):\n",
    "    \"\"\"\n",
    "    Extracts features from a raw audio waveform.\n",
    "    \"\"\"\n",
    "    # Extract MFCCs\n",
    "    mfccs = librosa.feature.mfcc(y=data, sr=sr, n_mfcc=13).mean(axis=1)\n",
    "\n",
    "    # Extract Chroma features\n",
    "    chroma = librosa.feature.chroma_stft(y=data, sr=sr).mean(axis=1)\n",
    "\n",
    "    # Extract Spectral Contrast\n",
    "    spectral_contrast = librosa.feature.spectral_contrast(y=data, sr=sr).mean(axis=1)\n",
    "\n",
    "    # Combine all features\n",
    "    return np.hstack([mfccs, chroma, spectral_contrast])"
   ]
  },
  {
   "cell_type": "code",
   "execution_count": 40,
   "id": "f5b5c954-685b-482d-862b-d974c6908455",
   "metadata": {},
   "outputs": [],
   "source": [
    "def cleanse_audio(file_path, target_sample_rate=16000):\n",
    "    \"\"\"\n",
    "    Cleanses the audio file by performing the following:\n",
    "    - Resampling to the target sample rate\n",
    "    - Normalization\n",
    "    - Trimming silence\n",
    "    \"\"\"\n",
    "    # Load audio file\n",
    "    data, sr = librosa.load(file_path, sr=None)\n",
    "\n",
    "    # Trim silence from the beginning and end\n",
    "    data, _ = librosa.effects.trim(data)\n",
    "\n",
    "    # Resample to the target sample rate\n",
    "    if sr != target_sample_rate:\n",
    "        data = librosa.resample(data, orig_sr=sr, target_sr=target_sample_rate)\n",
    "        sr = target_sample_rate\n",
    "\n",
    "    # Normalize the audio to range [-1, 1]\n",
    "    data = librosa.util.normalize(data)\n",
    "\n",
    "    return data, sr"
   ]
  },
  {
   "cell_type": "markdown",
   "id": "e758b9eb-7375-41ec-b13b-5eae493c7aa1",
   "metadata": {},
   "source": [
    "### Preprocess data"
   ]
  },
  {
   "cell_type": "code",
   "execution_count": 41,
   "id": "edb87d9b-c003-4928-895c-a7dc3d005755",
   "metadata": {
    "editable": true,
    "slideshow": {
     "slide_type": ""
    },
    "tags": []
   },
   "outputs": [],
   "source": [
    "DATA_DIR = \"../dataanalysis/dataset/dataset/\"\n",
    "audio_files = os.listdir(DATA_DIR)\n",
    "\n",
    "# Prepare labels\n",
    "emission_context = {'F': 'Waiting For Food', 'I': 'Isolated in unfamiliar Environment', 'B': 'Brushing'}\n",
    "breed_map = {'MC': 'Maine Coon', 'EU': 'European Shorthair'}\n",
    "sex_map = {'FI': 'Female Intact', 'FN': 'Female Neutralised', 'MI': 'Male Intact', 'MN':'Male Neutralised'}\n",
    "\n",
    "\n",
    "data = []\n",
    "for file in audio_files:\n",
    "    split = file.split('_')\n",
    "    label_context = split[0]\n",
    "    label_breed = split[2]\n",
    "    label_sex = split[3]\n",
    "    \n",
    "    file_path = os.path.join(DATA_DIR, file)\n",
    "\n",
    "    # Load and cleanse audio\n",
    "    audio_data, sr = cleanse_audio(file_path)\n",
    "\n",
    "    # Extract features for the original audio\n",
    "    features = extract_features_from_waveform(audio_data, sr)\n",
    "    data.append([features, label_context, label_breed, label_sex])\n",
    "\n",
    "    # Augment male cat data\n",
    "    if label_sex in ['MI', 'MN']:\n",
    "        # Apply pitch shifting\n",
    "        data_shifted = librosa.effects.pitch_shift(audio_data, sr=sr, n_steps=2)\n",
    "        features_shifted = extract_features_from_waveform(data_shifted, sr)\n",
    "        \n",
    "        # Add the pitch-shifted features\n",
    "        data.append([features_shifted, label_context, label_breed, label_sex])\n",
    "\n",
    "\n",
    "# Convert to DataFrame\n",
    "df = pd.DataFrame(data, columns=['features', 'emission_context', 'breed', 'sex'])"
   ]
  },
  {
   "cell_type": "code",
   "execution_count": 42,
   "id": "ae4f9451-ea47-4a7c-8a6b-9f72eef66ed0",
   "metadata": {},
   "outputs": [
    {
     "data": {
      "text/html": [
       "<div>\n",
       "<style scoped>\n",
       "    .dataframe tbody tr th:only-of-type {\n",
       "        vertical-align: middle;\n",
       "    }\n",
       "\n",
       "    .dataframe tbody tr th {\n",
       "        vertical-align: top;\n",
       "    }\n",
       "\n",
       "    .dataframe thead th {\n",
       "        text-align: right;\n",
       "    }\n",
       "</style>\n",
       "<table border=\"1\" class=\"dataframe\">\n",
       "  <thead>\n",
       "    <tr style=\"text-align: right;\">\n",
       "      <th></th>\n",
       "      <th>features</th>\n",
       "      <th>emission_context</th>\n",
       "      <th>breed</th>\n",
       "      <th>sex</th>\n",
       "    </tr>\n",
       "  </thead>\n",
       "  <tbody>\n",
       "    <tr>\n",
       "      <th>0</th>\n",
       "      <td>[-349.7370300292969, 97.11997985839844, -74.09...</td>\n",
       "      <td>B</td>\n",
       "      <td>MC</td>\n",
       "      <td>MN</td>\n",
       "    </tr>\n",
       "    <tr>\n",
       "      <th>1</th>\n",
       "      <td>[-367.95574951171875, 82.39789581298828, -83.3...</td>\n",
       "      <td>B</td>\n",
       "      <td>MC</td>\n",
       "      <td>MN</td>\n",
       "    </tr>\n",
       "    <tr>\n",
       "      <th>2</th>\n",
       "      <td>[-344.1110534667969, 104.6786117553711, -75.60...</td>\n",
       "      <td>B</td>\n",
       "      <td>MC</td>\n",
       "      <td>MN</td>\n",
       "    </tr>\n",
       "    <tr>\n",
       "      <th>3</th>\n",
       "      <td>[-362.3681640625, 97.22762298583984, -90.47682...</td>\n",
       "      <td>B</td>\n",
       "      <td>MC</td>\n",
       "      <td>MN</td>\n",
       "    </tr>\n",
       "    <tr>\n",
       "      <th>4</th>\n",
       "      <td>[-374.1191711425781, 105.55970764160156, -68.7...</td>\n",
       "      <td>B</td>\n",
       "      <td>MC</td>\n",
       "      <td>MN</td>\n",
       "    </tr>\n",
       "    <tr>\n",
       "      <th>...</th>\n",
       "      <td>...</td>\n",
       "      <td>...</td>\n",
       "      <td>...</td>\n",
       "      <td>...</td>\n",
       "    </tr>\n",
       "    <tr>\n",
       "      <th>510</th>\n",
       "      <td>[-300.8938903808594, 94.4280776977539, -66.569...</td>\n",
       "      <td>I</td>\n",
       "      <td>MC</td>\n",
       "      <td>FI</td>\n",
       "    </tr>\n",
       "    <tr>\n",
       "      <th>511</th>\n",
       "      <td>[-310.45660400390625, 93.56620788574219, -70.3...</td>\n",
       "      <td>I</td>\n",
       "      <td>MC</td>\n",
       "      <td>FI</td>\n",
       "    </tr>\n",
       "    <tr>\n",
       "      <th>512</th>\n",
       "      <td>[-254.23939514160156, 99.22516632080078, -71.9...</td>\n",
       "      <td>I</td>\n",
       "      <td>MC</td>\n",
       "      <td>FI</td>\n",
       "    </tr>\n",
       "    <tr>\n",
       "      <th>513</th>\n",
       "      <td>[-281.2156066894531, 103.79820251464844, -78.7...</td>\n",
       "      <td>I</td>\n",
       "      <td>MC</td>\n",
       "      <td>FI</td>\n",
       "    </tr>\n",
       "    <tr>\n",
       "      <th>514</th>\n",
       "      <td>[-289.78997802734375, 93.69065856933594, -61.3...</td>\n",
       "      <td>I</td>\n",
       "      <td>MC</td>\n",
       "      <td>FI</td>\n",
       "    </tr>\n",
       "  </tbody>\n",
       "</table>\n",
       "<p>515 rows × 4 columns</p>\n",
       "</div>"
      ],
      "text/plain": [
       "                                              features emission_context breed  \\\n",
       "0    [-349.7370300292969, 97.11997985839844, -74.09...                B    MC   \n",
       "1    [-367.95574951171875, 82.39789581298828, -83.3...                B    MC   \n",
       "2    [-344.1110534667969, 104.6786117553711, -75.60...                B    MC   \n",
       "3    [-362.3681640625, 97.22762298583984, -90.47682...                B    MC   \n",
       "4    [-374.1191711425781, 105.55970764160156, -68.7...                B    MC   \n",
       "..                                                 ...              ...   ...   \n",
       "510  [-300.8938903808594, 94.4280776977539, -66.569...                I    MC   \n",
       "511  [-310.45660400390625, 93.56620788574219, -70.3...                I    MC   \n",
       "512  [-254.23939514160156, 99.22516632080078, -71.9...                I    MC   \n",
       "513  [-281.2156066894531, 103.79820251464844, -78.7...                I    MC   \n",
       "514  [-289.78997802734375, 93.69065856933594, -61.3...                I    MC   \n",
       "\n",
       "    sex  \n",
       "0    MN  \n",
       "1    MN  \n",
       "2    MN  \n",
       "3    MN  \n",
       "4    MN  \n",
       "..   ..  \n",
       "510  FI  \n",
       "511  FI  \n",
       "512  FI  \n",
       "513  FI  \n",
       "514  FI  \n",
       "\n",
       "[515 rows x 4 columns]"
      ]
     },
     "execution_count": 42,
     "metadata": {},
     "output_type": "execute_result"
    }
   ],
   "source": [
    "df[:][:]"
   ]
  },
  {
   "cell_type": "code",
   "execution_count": 43,
   "id": "000217c3-192d-4511-ba23-33f901474b87",
   "metadata": {},
   "outputs": [],
   "source": [
    "from sklearn.model_selection import train_test_split\n",
    "\n",
    "# Separate features (X) and labels (y)\n",
    "X = np.array(df['features'].tolist())  # Convert list of features to a 2D numpy array\n",
    "y = df['sex']\n",
    "\n",
    "# Encode labels (e.g., MI -> 0, MN -> 1, etc.)\n",
    "from sklearn.preprocessing import LabelEncoder\n",
    "label_encoder = LabelEncoder()\n",
    "y = label_encoder.fit_transform(y)\n",
    "\n",
    "# Split data\n",
    "X_train, X_temp, y_train, y_temp = train_test_split(X, y, test_size=0.3, random_state=42)\n",
    "X_val, X_test, y_val, y_test = train_test_split(X_temp, y_temp, test_size=0.5, random_state=42)"
   ]
  },
  {
   "cell_type": "code",
   "execution_count": 44,
   "id": "589705df-da12-4a2c-bb27-fbb96335abcd",
   "metadata": {},
   "outputs": [],
   "source": [
    "from sklearn.preprocessing import StandardScaler\n",
    "scaler = StandardScaler()\n",
    "X_train = scaler.fit_transform(X_train)\n",
    "X_val = scaler.transform(X_val)\n",
    "X_test = scaler.transform(X_test)"
   ]
  },
  {
   "cell_type": "code",
   "execution_count": 45,
   "id": "69c02897-5815-411e-a6e5-9d88deca3f66",
   "metadata": {},
   "outputs": [
    {
     "name": "stdout",
     "output_type": "stream",
     "text": [
      "Model: \"sequential_1\"\n",
      "_________________________________________________________________\n",
      " Layer (type)                Output Shape              Param #   \n",
      "=================================================================\n",
      " dense_3 (Dense)             (None, 128)               4224      \n",
      "                                                                 \n",
      " dropout_2 (Dropout)         (None, 128)               0         \n",
      "                                                                 \n",
      " dense_4 (Dense)             (None, 64)                8256      \n",
      "                                                                 \n",
      " dropout_3 (Dropout)         (None, 64)                0         \n",
      "                                                                 \n",
      " dense_5 (Dense)             (None, 4)                 260       \n",
      "                                                                 \n",
      "=================================================================\n",
      "Total params: 12740 (49.77 KB)\n",
      "Trainable params: 12740 (49.77 KB)\n",
      "Non-trainable params: 0 (0.00 Byte)\n",
      "_________________________________________________________________\n"
     ]
    }
   ],
   "source": [
    "import tensorflow as tf\n",
    "from tensorflow.keras import layers, models\n",
    "\n",
    "# Define the model\n",
    "model = models.Sequential([\n",
    "    layers.Input(shape=(X_train.shape[1],)),  # Input layer\n",
    "    layers.Dense(128, activation='relu'),  # Fully connected layer\n",
    "    layers.Dropout(0.3),  # Dropout to prevent overfitting\n",
    "    layers.Dense(64, activation='relu'),  # Second dense layer\n",
    "    layers.Dropout(0.3),\n",
    "    layers.Dense(len(np.unique(y)), activation='softmax')  # Output layer with softmax for classification\n",
    "])\n",
    "\n",
    "# Compile the model\n",
    "model.compile(optimizer='adam',\n",
    "              loss='sparse_categorical_crossentropy',\n",
    "              metrics=['accuracy'])\n",
    "\n",
    "# Summary of the model\n",
    "model.summary()"
   ]
  },
  {
   "cell_type": "code",
   "execution_count": 46,
   "id": "610ab80f-5467-4084-a6ec-e7769575501f",
   "metadata": {},
   "outputs": [
    {
     "name": "stdout",
     "output_type": "stream",
     "text": [
      "Epoch 1/100\n",
      "23/23 [==============================] - 2s 32ms/step - loss: 1.2793 - accuracy: 0.4556 - val_loss: 1.0422 - val_accuracy: 0.6494\n",
      "Epoch 2/100\n",
      "23/23 [==============================] - 1s 42ms/step - loss: 0.9330 - accuracy: 0.6306 - val_loss: 0.8690 - val_accuracy: 0.6623\n",
      "Epoch 3/100\n",
      "23/23 [==============================] - 1s 42ms/step - loss: 0.7758 - accuracy: 0.6861 - val_loss: 0.7805 - val_accuracy: 0.6883\n",
      "Epoch 4/100\n",
      "23/23 [==============================] - 1s 47ms/step - loss: 0.7086 - accuracy: 0.7278 - val_loss: 0.7130 - val_accuracy: 0.7662\n",
      "Epoch 5/100\n",
      "23/23 [==============================] - 1s 44ms/step - loss: 0.6716 - accuracy: 0.7528 - val_loss: 0.6520 - val_accuracy: 0.7922\n",
      "Epoch 6/100\n",
      "23/23 [==============================] - 1s 41ms/step - loss: 0.5843 - accuracy: 0.7639 - val_loss: 0.6140 - val_accuracy: 0.8052\n",
      "Epoch 7/100\n",
      "23/23 [==============================] - 1s 42ms/step - loss: 0.5224 - accuracy: 0.8139 - val_loss: 0.5958 - val_accuracy: 0.8052\n",
      "Epoch 8/100\n",
      "23/23 [==============================] - 1s 44ms/step - loss: 0.5217 - accuracy: 0.8194 - val_loss: 0.5729 - val_accuracy: 0.8052\n",
      "Epoch 9/100\n",
      "23/23 [==============================] - 1s 41ms/step - loss: 0.5150 - accuracy: 0.8111 - val_loss: 0.5601 - val_accuracy: 0.8052\n",
      "Epoch 10/100\n",
      "23/23 [==============================] - 1s 46ms/step - loss: 0.4543 - accuracy: 0.8472 - val_loss: 0.5344 - val_accuracy: 0.8182\n",
      "Epoch 11/100\n",
      "23/23 [==============================] - 1s 43ms/step - loss: 0.4780 - accuracy: 0.8306 - val_loss: 0.5374 - val_accuracy: 0.7922\n",
      "Epoch 12/100\n",
      "23/23 [==============================] - 1s 40ms/step - loss: 0.4114 - accuracy: 0.8611 - val_loss: 0.5185 - val_accuracy: 0.8052\n",
      "Epoch 13/100\n",
      "23/23 [==============================] - 1s 49ms/step - loss: 0.3941 - accuracy: 0.8556 - val_loss: 0.4907 - val_accuracy: 0.8312\n",
      "Epoch 14/100\n",
      "23/23 [==============================] - 1s 45ms/step - loss: 0.3835 - accuracy: 0.8389 - val_loss: 0.4832 - val_accuracy: 0.8312\n",
      "Epoch 15/100\n",
      "23/23 [==============================] - 1s 45ms/step - loss: 0.3651 - accuracy: 0.8583 - val_loss: 0.4691 - val_accuracy: 0.8312\n",
      "Epoch 16/100\n",
      "23/23 [==============================] - 1s 44ms/step - loss: 0.3591 - accuracy: 0.8611 - val_loss: 0.4730 - val_accuracy: 0.8312\n",
      "Epoch 17/100\n",
      "23/23 [==============================] - 1s 44ms/step - loss: 0.3322 - accuracy: 0.8611 - val_loss: 0.4556 - val_accuracy: 0.8312\n",
      "Epoch 18/100\n",
      "23/23 [==============================] - 1s 45ms/step - loss: 0.3007 - accuracy: 0.8917 - val_loss: 0.4485 - val_accuracy: 0.8312\n",
      "Epoch 19/100\n",
      "23/23 [==============================] - 1s 44ms/step - loss: 0.3065 - accuracy: 0.9028 - val_loss: 0.4436 - val_accuracy: 0.8312\n",
      "Epoch 20/100\n",
      "23/23 [==============================] - 1s 44ms/step - loss: 0.2730 - accuracy: 0.9000 - val_loss: 0.4300 - val_accuracy: 0.8571\n",
      "Epoch 21/100\n",
      "23/23 [==============================] - 1s 45ms/step - loss: 0.2549 - accuracy: 0.9111 - val_loss: 0.4400 - val_accuracy: 0.8312\n",
      "Epoch 22/100\n",
      "23/23 [==============================] - 1s 51ms/step - loss: 0.2503 - accuracy: 0.9139 - val_loss: 0.4511 - val_accuracy: 0.8571\n",
      "Epoch 23/100\n",
      "23/23 [==============================] - 1s 39ms/step - loss: 0.2330 - accuracy: 0.9194 - val_loss: 0.4560 - val_accuracy: 0.8571\n",
      "Epoch 24/100\n",
      "23/23 [==============================] - 1s 44ms/step - loss: 0.2461 - accuracy: 0.9056 - val_loss: 0.4496 - val_accuracy: 0.8571\n",
      "Epoch 25/100\n",
      "23/23 [==============================] - 1s 44ms/step - loss: 0.2302 - accuracy: 0.9167 - val_loss: 0.4489 - val_accuracy: 0.8182\n"
     ]
    }
   ],
   "source": [
    "# Define early stopping\n",
    "early_stopping = tf.keras.callbacks.EarlyStopping(\n",
    "    monitor='val_loss',\n",
    "    patience=5,  # Stop training if validation loss doesn't improve for 5 epochs\n",
    "    restore_best_weights=True\n",
    ")\n",
    "\n",
    "# Train the model\n",
    "history = model.fit(\n",
    "    X_train, y_train,\n",
    "    validation_data=(X_val, y_val),\n",
    "    epochs=100,\n",
    "    batch_size=16,\n",
    "    callbacks=[early_stopping]\n",
    ")"
   ]
  },
  {
   "cell_type": "code",
   "execution_count": 47,
   "id": "30d18c48-3fbb-42a0-acac-18803e889e35",
   "metadata": {},
   "outputs": [
    {
     "name": "stdout",
     "output_type": "stream",
     "text": [
      "3/3 [==============================] - 0s 29ms/step - loss: 0.3498 - accuracy: 0.8718\n",
      "Test Loss: 0.3498\n",
      "Test Accuracy: 0.8718\n"
     ]
    }
   ],
   "source": [
    "# Evaluate on the test set\n",
    "test_loss, test_accuracy = model.evaluate(X_test, y_test)\n",
    "print(f\"Test Loss: {test_loss:.4f}\")\n",
    "print(f\"Test Accuracy: {test_accuracy:.4f}\")"
   ]
  },
  {
   "cell_type": "code",
   "execution_count": 48,
   "id": "f01e262d-bc4d-40ed-9d1f-461e955d6227",
   "metadata": {},
   "outputs": [
    {
     "data": {
      "image/png": "[encoded data removed]",
      "text/plain": [
       "<Figure size 640x480 with 1 Axes>"
      ]
     },
     "metadata": {},
     "output_type": "display_data"
    },
    {
     "data": {
      "image/png": "[encoded data removed]",
      "text/plain": [
       "<Figure size 640x480 with 1 Axes>"
      ]
     },
     "metadata": {},
     "output_type": "display_data"
    }
   ],
   "source": [
    "import matplotlib.pyplot as plt\n",
    "\n",
    "# Plot loss\n",
    "plt.plot(history.history['loss'], label='Training Loss')\n",
    "plt.plot(history.history['val_loss'], label='Validation Loss')\n",
    "plt.xlabel('Epochs')\n",
    "plt.ylabel('Loss')\n",
    "plt.legend()\n",
    "plt.show()\n",
    "\n",
    "# Plot accuracy\n",
    "plt.plot(history.history['accuracy'], label='Training Accuracy')\n",
    "plt.plot(history.history['val_accuracy'], label='Validation Accuracy')\n",
    "plt.xlabel('Epochs')\n",
    "plt.ylabel('Accuracy')\n",
    "plt.legend()\n",
    "plt.show()"
   ]
  },
  {
   "cell_type": "code",
   "execution_count": 49,
   "id": "22a5e8e1-ee37-4022-bfd4-abba3950cee7",
   "metadata": {},
   "outputs": [],
   "source": [
    "def preprocess_single_audio(file_path, target_sample_rate=16000):\n",
    "    \"\"\"\n",
    "    Preprocess a single audio file and extract the features for classification.\n",
    "    \"\"\"\n",
    "    # Cleanse the audio (e.g., trimming, resampling, normalization)\n",
    "    data, sr = cleanse_audio(file_path, target_sample_rate=target_sample_rate)\n",
    "\n",
    "    # Extract features (MFCCs, Chroma, Spectral Contrast)\n",
    "    features = extract_features(file_path, target_sample_rate=target_sample_rate)\n",
    "\n",
    "    # Normalize the features\n",
    "    scaler = StandardScaler()\n",
    "    features = scaler.fit_transform(features.reshape(-1, 1)).flatten()  # Normalize across the feature set\n",
    "\n",
    "    return features"
   ]
  },
  {
   "cell_type": "code",
   "execution_count": 52,
   "id": "da2e9f26-0766-41c5-9deb-f125ba21cedc",
   "metadata": {},
   "outputs": [],
   "source": [
    "def classify_audio(file_path, model, scaler, label_encoder, target_sample_rate=16000):\n",
    "    \"\"\"\n",
    "    Classify a single audio file using the trained model.\n",
    "    \"\"\"\n",
    "    # Preprocess the audio file\n",
    "    features = preprocess_single_audio(file_path, target_sample_rate)\n",
    "\n",
    "    # Reshape the features to match the model's input shape\n",
    "    features = features.reshape(1, -1)  # Reshape for a single sample (1, number_of_features)\n",
    "\n",
    "    # Make prediction\n",
    "    prediction = model.predict(features)\n",
    "\n",
    "    # If using a softmax output, we get probabilities, so we need the index with the highest probability\n",
    "    predicted_class_idx = np.argmax(prediction, axis=1)  # Get the index of the highest probability\n",
    "\n",
    "    # Decode the predicted label\n",
    "    predicted_label = label_encoder.inverse_transform(predicted_class_idx)\n",
    "    \n",
    "    return predicted_label[0]"
   ]
  },
  {
   "cell_type": "code",
   "execution_count": 54,
   "id": "474c071a-f134-4655-bc83-3de41f851cd4",
   "metadata": {},
   "outputs": [
    {
     "name": "stdout",
     "output_type": "stream",
     "text": [
      "1/1 [==============================] - 0s 17ms/step\n",
      "B_ANI01_MC_FN_SIM01_101.wav: MN\n",
      "1/1 [==============================] - 0s 14ms/step\n",
      "B_ANI01_MC_FN_SIM01_102.wav: MN\n",
      "1/1 [==============================] - 0s 17ms/step\n",
      "B_ANI01_MC_FN_SIM01_103.wav: MN\n",
      "1/1 [==============================] - 0s 14ms/step\n",
      "B_ANI01_MC_FN_SIM01_301.wav: MN\n",
      "1/1 [==============================] - 0s 14ms/step\n",
      "B_ANI01_MC_FN_SIM01_302.wav: MN\n",
      "1/1 [==============================] - 0s 14ms/step\n",
      "B_ANI01_MC_FN_SIM01_303.wav: MN\n",
      "1/1 [==============================] - 0s 14ms/step\n",
      "B_NIG01_MC_MN_SIM01_101.wav: MN\n",
      "1/1 [==============================] - 0s 17ms/step\n",
      "B_NIG01_MC_MN_SIM01_102.wav: MN\n",
      "1/1 [==============================] - 0s 15ms/step\n",
      "B_NIG01_MC_MN_SIM01_103.wav: MN\n",
      "1/1 [==============================] - 0s 14ms/step\n",
      "B_NIG01_MC_MN_SIM01_201.wav: MN\n",
      "1/1 [==============================] - 0s 17ms/step\n",
      "I_ANI01_MC_FN_SIM01_101.wav: MN\n",
      "1/1 [==============================] - 0s 13ms/step\n",
      "I_ANI01_MC_FN_SIM01_102.wav: MN\n",
      "1/1 [==============================] - 0s 14ms/step\n",
      "I_ANI01_MC_FN_SIM01_103.wav: MN\n",
      "1/1 [==============================] - 0s 16ms/step\n",
      "I_ANI01_MC_FN_SIM01_104.wav: MN\n",
      "1/1 [==============================] - 0s 14ms/step\n",
      "I_NIG01_MC_MN_SIM01_201.wav: MN\n"
     ]
    }
   ],
   "source": [
    "TEST_DIR = \"../dataanalysis/dataset/testset/\"\n",
    "test_files = os.listdir(TEST_DIR)\n",
    "\n",
    "for file in test_files:\n",
    "    file_path = os.path.join(TEST_DIR, file)\n",
    "    predicted_sex = classify_audio(file_path, model, scaler, label_encoder)\n",
    "    print(f\"{file}: {predicted_sex}\")"
   ]
  },
  {
   "cell_type": "code",
   "execution_count": null,
   "id": "f4ccaa52-566a-4a06-8b38-5d8893ed1e6e",
   "metadata": {},
   "outputs": [],
   "source": []
  }
 ],
 "metadata": {
  "kernelspec": {
   "display_name": "Python 3 (ipykernel)",
   "language": "python",
   "name": "python3"
  },
  "language_info": {
   "codemirror_mode": {
    "name": "ipython",
    "version": 3
   },
   "file_extension": ".py",
   "mimetype": "text/x-python",
   "name": "python",
   "nbconvert_exporter": "python",
   "pygments_lexer": "ipython3",
   "version": "3.10.12"
  }
 },
 "nbformat": 4,
 "nbformat_minor": 5
}
