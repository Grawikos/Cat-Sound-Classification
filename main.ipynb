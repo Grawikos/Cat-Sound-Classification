{
 "cells": [
  {
   "cell_type": "markdown",
   "id": "e77358ce-2b59-4bc6-9efb-c80e0208ad79",
   "metadata": {},
   "source": [
    "# Classification of cat sex based on their meows\n",
    "https://www.kaggle.com/datasets/andrewmvd/cat-meow-classification/data"
   ]
  },
  {
   "cell_type": "code",
   "execution_count": 1,
   "id": "f10bc626-36e6-4af8-9a3e-591721aba58a",
   "metadata": {},
   "outputs": [],
   "source": [
    "import librosa\n",
    "import os\n",
    "import matplotlib.pyplot as plt\n",
    "import numpy as np\n",
    "import pandas as pd\n",
    "from sklearn.preprocessing import LabelEncoder\n",
    "from sklearn.metrics import confusion_matrix, ConfusionMatrixDisplay\n",
    "import tensorflow as tf\n",
    "from tensorflow.keras import layers, models\n",
    "from sklearn.model_selection import train_test_split\n",
    "from sklearn.preprocessing import StandardScaler\n",
    "from sklearn.utils import shuffle\n",
    "import random\n",
    "from sklearn import tree"
   ]
  },
  {
   "cell_type": "markdown",
   "id": "0bcd3c90-9e8a-4b5c-9d2f-9e011c804958",
   "metadata": {},
   "source": [
    "## Procedure definitions"
   ]
  },
  {
   "cell_type": "markdown",
   "id": "bac513bd-48e4-48bf-b22d-b674087ca1b0",
   "metadata": {},
   "source": [
    "### 1. Extracting features from audio file used later for classification"
   ]
  },
  {
   "cell_type": "code",
   "execution_count": 2,
   "id": "d76bbd1f-8c62-4790-acf1-62b19da55b1e",
   "metadata": {},
   "outputs": [],
   "source": [
    "def extract_features_from_waveform(data, sr):\n",
    "    # Extract Mel-frequency cepstral coefficients (MFCCs)\n",
    "    mfccs = librosa.feature.mfcc(y=data, sr=sr, n_mfcc=32).mean(axis=1)\n",
    "\n",
    "    # Compute a chromagram from a waveform or power spectrogram\n",
    "    chroma = librosa.feature.chroma_stft(y=data, sr=sr).mean(axis=1)\n",
    "\n",
    "    # Extract Spectral Contrast\n",
    "    spectral_contrast = librosa.feature.spectral_contrast(y=data, sr=sr).mean(axis=1)\n",
    "\n",
    "    # Combine all features\n",
    "    return np.hstack([mfccs, chroma, spectral_contrast])"
   ]
  },
  {
   "cell_type": "markdown",
   "id": "f19622d3-60e3-420b-accc-63a3854c98a3",
   "metadata": {},
   "source": [
    "### 2. Loading audio files from file path, trimming it (removing silence at the ends) and normalising the amplitude"
   ]
  },
  {
   "cell_type": "code",
   "execution_count": 3,
   "id": "f5b5c954-685b-482d-862b-d974c6908455",
   "metadata": {},
   "outputs": [],
   "source": [
    "def cleanse_audio(file_path, target_sample_rate=16000):\n",
    "    # Load audio file\n",
    "    data, sr = librosa.load(file_path, sr=None)\n",
    "\n",
    "    # Trim silence from the beginning and end\n",
    "    data, _ = librosa.effects.trim(data)\n",
    "\n",
    "    # Resample to the target sample rate\n",
    "    if sr != target_sample_rate:\n",
    "        data = librosa.resample(data, orig_sr=sr, target_sr=target_sample_rate)\n",
    "        sr = target_sample_rate\n",
    "\n",
    "    # Normalize the audio to range [-1, 1]\n",
    "    data = librosa.util.normalize(data)\n",
    "\n",
    "    return data, sr"
   ]
  },
  {
   "cell_type": "markdown",
   "id": "ec86b972-0c94-45e8-a4fe-d0e5a804fddb",
   "metadata": {},
   "source": [
    "### 3. # target/ # all"
   ]
  },
  {
   "cell_type": "code",
   "execution_count": 4,
   "id": "ba730bc0-cd00-42fa-b6b6-2da719baa5a2",
   "metadata": {},
   "outputs": [],
   "source": [
    "def check_ratio(data, target):\n",
    "    count = 0\n",
    "    for i in data:\n",
    "        if i == target:\n",
    "            count += 1\n",
    "    return (count / len(data))\n",
    "    "
   ]
  },
  {
   "cell_type": "markdown",
   "id": "f2fbe262-1637-4213-adaa-78d5d7148c98",
   "metadata": {},
   "source": [
    "### 4. Taking dataframe with X and y as string values, returning encoded X, y and all endocers (for future inverse transforming)"
   ]
  },
  {
   "cell_type": "code",
   "execution_count": 5,
   "id": "19ef715f-de86-493b-9212-810cd46bfd3e",
   "metadata": {},
   "outputs": [],
   "source": [
    "def divide_X_y(df, make_random = True):\n",
    "    X_features = np.array(df['features'].tolist())\n",
    "    \n",
    "    context_encoder = LabelEncoder()\n",
    "    breed_encoder = LabelEncoder()\n",
    "    sex_encoder = LabelEncoder()\n",
    "    \n",
    "    # Transform the categorical columns into integers\n",
    "    df['emission_context_encoded'] = context_encoder.fit_transform(df['emission_context'])\n",
    "    df['breed_encoded'] = breed_encoder.fit_transform(df['breed'])\n",
    "    \n",
    "    # Extract the encoded columns as arrays\n",
    "    X_context = df['emission_context_encoded'].to_numpy().reshape(-1, 1)\n",
    "    X_breed = df['breed_encoded'].to_numpy().reshape(-1, 1)\n",
    "    cat_id = df['cat_id'].to_numpy().reshape(-1, 1)\n",
    "    # Combine features with the encoded categorical data\n",
    "    X_combined = np.hstack([X_features, X_context, X_breed, cat_id])\n",
    "    \n",
    "    y = sex_encoder.fit_transform(df['sex'])  # Encode labels (sex)\n",
    "    return X_combined, y, context_encoder, breed_encoder, sex_encoder"
   ]
  },
  {
   "cell_type": "markdown",
   "id": "632c657a-bac9-4ec6-b4fc-8768ebea421a",
   "metadata": {},
   "source": [
    "### 5. Splitting data X, y -> X_train, y_train, X_val, y_val, X_test, y_test\n",
    "if by_cat_id == True   => the function will separate cats based on their IDs. Audio from a cat that is in test/vaidation set cannot be in the training set. This option makes the division not perfect, but >30% of the data wil be in test + validation set\n",
    "\n",
    "if by_cat_id == False  => the function will not separate cats. (weak data leakage)\n",
    "\n",
    "if random_state == None => function will shuffle data before division"
   ]
  },
  {
   "cell_type": "code",
   "execution_count": 6,
   "id": "ac5b771c-4e9f-4278-8c24-a19a652660a1",
   "metadata": {},
   "outputs": [],
   "source": [
    "def split_data(X_combined, y, by_cat_id: bool = True, random_state: int = None):\n",
    "    X_combined, y = shuffle(X_combined, y, random_state=random_state)\n",
    "    if not by_cat_id:\n",
    "        X_train, X_temp, y_train, y_temp = train_test_split(X_combined, y, test_size=0.3, random_state=random_state)\n",
    "        X_val, X_test, y_val, y_test = train_test_split(X_temp, y_temp, test_size=0.5, random_state=random_state)\n",
    "    else:\n",
    "        perfect_num_for_test_val = 0.3 * len(X_combined)\n",
    "        num_for_test_val = 0\n",
    "        ID = -1\n",
    "        X_test_val = []\n",
    "        y_test_val = []\n",
    "        i = 0\n",
    "        seen_ids = set()\n",
    "        current_id = \"\"\n",
    "        while num_for_test_val < perfect_num_for_test_val:  \n",
    "            # find new cat\n",
    "            for cat in X_combined:\n",
    "                if cat[ID] not in seen_ids: \n",
    "                    seen_ids.add(cat[ID])\n",
    "                    current_id = cat[ID]\n",
    "                    break\n",
    "            # add all of its meows to the (test + validation) set\n",
    "            for cat, i in zip(X_combined, y):\n",
    "                if cat[ID] == current_id:\n",
    "                    X_test_val.append(cat)\n",
    "                    y_test_val.append(i)\n",
    "                    num_for_test_val += 1\n",
    "        X_train = []\n",
    "        y_train = []\n",
    "        # push all remainning cats to the train set\n",
    "        for cat, i in zip(X_combined, y):\n",
    "            if cat[ID] not in seen_ids:\n",
    "                X_train.append(cat)\n",
    "                y_train.append(i)\n",
    "        X_val, X_test, y_val, y_test = train_test_split(X_test_val, y_test_val, test_size=0.5, random_state=random_state)\n",
    "        \n",
    "        X_train = np.array(X_train)\n",
    "        X_val = np.array(X_val)\n",
    "        X_test = np.array(X_test)\n",
    "        y_train = np.array(y_train)\n",
    "        y_val = np.array(y_val)\n",
    "        y_test = np.array(y_test)\n",
    "    return X_train, y_train, X_val, y_val, X_test, y_test"
   ]
  },
  {
   "cell_type": "markdown",
   "id": "e934ffb9-d6ae-4806-9ddf-aeec2164b10a",
   "metadata": {},
   "source": [
    "Naming convention for files -> C_NNNNN_BB_SS_OOOOO_RXX, where:\n",
    "\n",
    "C = emission context (values: B = brushing; F = waiting for food; I: isolation in an unfamiliar environment);\n",
    "\n",
    "NNNNN = cat’s unique ID;\n",
    "\n",
    "BB = breed (values: MC = Maine Coon; EU: European Shorthair);\n",
    "\n",
    "SS = sex (values: FI = female, intact; FN: female, neutered; MI: male, intact; MN: male, neutered);\n",
    "\n",
    "OOOOO = cat owner’s unique ID;\n",
    "\n",
    "R = recording session (values: 1, 2 or 3)\n",
    "\n",
    "XX = vocalization counter (values: 01..99)\n",
    "\n",
    "e.g. 'B_ANI01_MC_FN_SIM01_102.wav'"
   ]
  },
  {
   "cell_type": "code",
   "execution_count": 7,
   "id": "8b0c4bd2-bd6f-4727-95d3-eebf6e7a61ad",
   "metadata": {},
   "outputs": [],
   "source": [
    "def split_filename_from_db(file: str, include_neutering: bool = False):\n",
    "    split = file.split('_')\n",
    "    label_context = split[0]\n",
    "    cat_id = split[1]\n",
    "    label_breed = split[2]\n",
    "    if include_neutering:\n",
    "         label_sex = split[3]   # 4 classes  (FI = female, intact; FN: female, neutered; MI: male, intact; MN: male, neutered);\n",
    "    label_sex = split[3][0]     # 2 classes (F - female, M - male)\n",
    "    return label_context, cat_id, label_breed, label_sex"
   ]
  },
  {
   "cell_type": "markdown",
   "id": "8117ec57-fa40-41bd-a6e7-966d9dd6ffd6",
   "metadata": {},
   "source": [
    "## Preprocess data\n",
    "### Since male meows are undersampled I will augment the data by trippling every male sample with changed pitch and with added noise."
   ]
  },
  {
   "cell_type": "code",
   "execution_count": 8,
   "id": "edb87d9b-c003-4928-895c-a7dc3d005755",
   "metadata": {
    "editable": true,
    "slideshow": {
     "slide_type": ""
    },
    "tags": []
   },
   "outputs": [],
   "source": [
    "DATA_DIR = \"dataset/dataset/\"\n",
    "audio_files = os.listdir(DATA_DIR)\n",
    "\n",
    "count_male = 0\n",
    "count_all = 0\n",
    "data = []\n",
    "count_files = len(audio_files)\n",
    "for file in audio_files:\n",
    "    count_all += 1\n",
    "    label_context, cat_id, label_breed, label_sex = split_filename_from_db(file)\n",
    "    file_path = os.path.join(DATA_DIR, file)\n",
    "\n",
    "    # Load and cleanse audio\n",
    "    audio_data, sr = cleanse_audio(file_path)\n",
    "\n",
    "    # Extract features for the original audio\n",
    "    features = extract_features_from_waveform(audio_data, sr)\n",
    "    data.append([features, label_context, label_breed, label_sex, cat_id])\n",
    "\n",
    "    # Augment male cat data\n",
    "    #if label_sex in ['MI', 'MN']:\n",
    "    if label_sex == 'M':\n",
    "        count_all += 2\n",
    "        count_male += 3\n",
    "        # Apply pitch shifting\n",
    "        data_shifted = librosa.effects.pitch_shift(audio_data, sr=sr, n_steps=2)\n",
    "        features_shifted = extract_features_from_waveform(data_shifted, sr)\n",
    "        data.append([features_shifted, label_context, label_breed, label_sex, cat_id + 'A1'])\n",
    "        \n",
    "        # Apply noise\n",
    "        noise = 0.05 * np.random.randn(len(audio_data))\n",
    "        data_noise = audio_data + noise\n",
    "        features_noise = extract_features_from_waveform(data_noise, sr)\n",
    "        data.append([features_noise, label_context, label_breed, label_sex, cat_id + 'A2'])\n",
    "\n",
    "df = pd.DataFrame(data, columns=['features', 'emission_context', 'breed', 'sex', 'cat_id'])"
   ]
  },
  {
   "cell_type": "markdown",
   "id": "7850ee85-1b97-40ae-9b32-6ba9820c5899",
   "metadata": {},
   "source": [
    "### Now this is the % of male samples"
   ]
  },
  {
   "cell_type": "code",
   "execution_count": 9,
   "id": "d0c74e14-ff9c-432f-8b46-b42c3df2d393",
   "metadata": {},
   "outputs": [
    {
     "name": "stdout",
     "output_type": "stream",
     "text": [
      "45.2%\n"
     ]
    }
   ],
   "source": [
    "print(f\"{round(count_male/count_all, 3) * 100}%\")"
   ]
  },
  {
   "cell_type": "markdown",
   "id": "05939635-09c1-40d0-a8fd-546e7e911297",
   "metadata": {},
   "source": [
    "### Divide dataframe to X and y.\n",
    "also returns LabelEncoder()"
   ]
  },
  {
   "cell_type": "code",
   "execution_count": 10,
   "id": "061465b2-3cd2-468c-b33d-690e7b3d7d8f",
   "metadata": {
    "editable": true,
    "slideshow": {
     "slide_type": ""
    },
    "tags": []
   },
   "outputs": [],
   "source": [
    "X_combined, y, context_encoder, breed_encoder, sex_encoder = divide_X_y(df)"
   ]
  },
  {
   "cell_type": "markdown",
   "id": "739e8730-c966-4453-8244-9a52665c28e5",
   "metadata": {},
   "source": [
    "### Split data into 70% - train, 15% - test, 15% - validate"
   ]
  },
  {
   "cell_type": "code",
   "execution_count": 11,
   "id": "73a1d93f-557d-481e-9ec4-b8d54e09fb15",
   "metadata": {},
   "outputs": [],
   "source": [
    "X_train, y_train, X_val, y_val, X_test, y_test = split_data(X_combined, y, by_cat_id=True, random_state=40)"
   ]
  },
  {
   "cell_type": "markdown",
   "id": "2017f3f5-51e6-46d6-acc6-921c12ee7481",
   "metadata": {},
   "source": [
    "### Ratio of    \n",
    "    (# female samples) / (# all samples)    \n",
    "### for all data splits\n",
    "if ratio > 0.70 the split should be remade, but I set the random_state = 40 so it splits nicely"
   ]
  },
  {
   "cell_type": "code",
   "execution_count": 12,
   "id": "be4409ca-0c64-402e-a93f-c0c1fec455aa",
   "metadata": {},
   "outputs": [
    {
     "data": {
      "text/plain": [
       "0.5186915887850467"
      ]
     },
     "execution_count": 12,
     "metadata": {},
     "output_type": "execute_result"
    }
   ],
   "source": [
    "check_ratio(y_train, sex_encoder.transform(['F']))"
   ]
  },
  {
   "cell_type": "code",
   "execution_count": 13,
   "id": "cce61332-9bb7-41bc-b731-0041e4ac33e2",
   "metadata": {},
   "outputs": [
    {
     "data": {
      "text/plain": [
       "0.594059405940594"
      ]
     },
     "execution_count": 13,
     "metadata": {},
     "output_type": "execute_result"
    }
   ],
   "source": [
    "check_ratio(y_test, sex_encoder.transform(['F']))"
   ]
  },
  {
   "cell_type": "code",
   "execution_count": 14,
   "id": "434edb5a-8925-43fd-9519-ce8569d03c26",
   "metadata": {},
   "outputs": [
    {
     "data": {
      "text/plain": [
       "0.6237623762376238"
      ]
     },
     "execution_count": 14,
     "metadata": {},
     "output_type": "execute_result"
    }
   ],
   "source": [
    "check_ratio(y_val, sex_encoder.transform(['F']))"
   ]
  },
  {
   "cell_type": "markdown",
   "id": "89e20718-52a9-4b88-a2c6-6cbd304f757e",
   "metadata": {},
   "source": [
    "### Remove ID label from data "
   ]
  },
  {
   "cell_type": "code",
   "execution_count": 15,
   "id": "e001e7f9-e493-4a44-81e8-c42897c26c98",
   "metadata": {},
   "outputs": [],
   "source": [
    "X_train = X_train[:, :-1]\n",
    "X_val = X_val[:, :-1]\n",
    "X_test = X_test[:, :-1]"
   ]
  },
  {
   "cell_type": "markdown",
   "id": "6879afe7-1c25-4c20-a7ff-57afde4e8ef3",
   "metadata": {},
   "source": [
    "### Scale data"
   ]
  },
  {
   "cell_type": "code",
   "execution_count": 16,
   "id": "589705df-da12-4a2c-bb27-fbb96335abcd",
   "metadata": {},
   "outputs": [],
   "source": [
    "scaler = StandardScaler()\n",
    "\n",
    "X_train = scaler.fit_transform(X_train)\n",
    "X_val = scaler.transform(X_val)\n",
    "X_test = scaler.transform(X_test)"
   ]
  },
  {
   "cell_type": "markdown",
   "id": "b47bcf7c-6f04-4549-873b-c5db75d37216",
   "metadata": {},
   "source": [
    "Used for classifiers without division for validation and testing"
   ]
  },
  {
   "cell_type": "code",
   "execution_count": 17,
   "id": "12ce86ca-e225-4bdf-b41f-ccd82c2001c1",
   "metadata": {},
   "outputs": [],
   "source": [
    "X_tv = np.concatenate((X_test, X_val))\n",
    "y_tv = np.concatenate((y_test, y_val))"
   ]
  },
  {
   "cell_type": "markdown",
   "id": "1e420adf-643a-4d20-b0b8-5961b493de51",
   "metadata": {},
   "source": [
    "## Neural Network with 2 hiden layers - 128 and 64 nodes"
   ]
  },
  {
   "cell_type": "code",
   "execution_count": 18,
   "id": "5f120b19-8c62-4796-8af1-6c624cb03085",
   "metadata": {},
   "outputs": [
    {
     "name": "stdout",
     "output_type": "stream",
     "text": [
      "Model: \"sequential\"\n",
      "_________________________________________________________________\n",
      " Layer (type)                Output Shape              Param #   \n",
      "=================================================================\n",
      " dense (Dense)               (None, 128)               6912      \n",
      "                                                                 \n",
      " dropout (Dropout)           (None, 128)               0         \n",
      "                                                                 \n",
      " dense_1 (Dense)             (None, 64)                8256      \n",
      "                                                                 \n",
      " dropout_1 (Dropout)         (None, 64)                0         \n",
      "                                                                 \n",
      " dense_2 (Dense)             (None, 2)                 130       \n",
      "                                                                 \n",
      "=================================================================\n",
      "Total params: 15298 (59.76 KB)\n",
      "Trainable params: 15298 (59.76 KB)\n",
      "Non-trainable params: 0 (0.00 Byte)\n",
      "_________________________________________________________________\n"
     ]
    }
   ],
   "source": [
    "model = models.Sequential([\n",
    "    layers.Input(shape=(X_train.shape[1],)),  # Input layer\n",
    "    layers.Dense(128, activation='relu'),  # Fully connected layer\n",
    "    layers.Dropout(0.3),  # Dropout to prevent overfitting\n",
    "    layers.Dense(64, activation='relu'),  # Second dense layer\n",
    "    layers.Dropout(0.3),\n",
    "    layers.Dense(len(np.unique(y)), activation='softmax')  # Output layer with softmax for classification\n",
    "])\n",
    "\n",
    "model.compile(optimizer='adam',\n",
    "              loss='sparse_categorical_crossentropy',\n",
    "              metrics=['accuracy'])\n",
    "\n",
    "model.summary()"
   ]
  },
  {
   "cell_type": "code",
   "execution_count": 19,
   "id": "610ab80f-5467-4084-a6ec-e7769575501f",
   "metadata": {},
   "outputs": [
    {
     "name": "stdout",
     "output_type": "stream",
     "text": [
      "Epoch 1/100\n",
      "7/7 [==============================] - 1s 26ms/step - loss: 0.6802 - accuracy: 0.5818 - val_loss: 0.4653 - val_accuracy: 0.8020\n",
      "Epoch 2/100\n",
      "7/7 [==============================] - 0s 5ms/step - loss: 0.4609 - accuracy: 0.7944 - val_loss: 0.3572 - val_accuracy: 0.8416\n",
      "Epoch 3/100\n",
      "7/7 [==============================] - 0s 5ms/step - loss: 0.4098 - accuracy: 0.8084 - val_loss: 0.3551 - val_accuracy: 0.8119\n",
      "Epoch 4/100\n",
      "7/7 [==============================] - 0s 5ms/step - loss: 0.3533 - accuracy: 0.8341 - val_loss: 0.3654 - val_accuracy: 0.7822\n",
      "Epoch 5/100\n",
      "7/7 [==============================] - 0s 5ms/step - loss: 0.3141 - accuracy: 0.8598 - val_loss: 0.3936 - val_accuracy: 0.7426\n",
      "Epoch 6/100\n",
      "7/7 [==============================] - 0s 5ms/step - loss: 0.2932 - accuracy: 0.8762 - val_loss: 0.4028 - val_accuracy: 0.7228\n"
     ]
    }
   ],
   "source": [
    "# Define early stopping\n",
    "early_stopping = tf.keras.callbacks.EarlyStopping(\n",
    "    monitor='val_loss',\n",
    "    patience=3,  # Stop training if validation loss doesn't improve for 3 epochs\n",
    "    restore_best_weights=True\n",
    ")\n",
    "\n",
    "# Train the model\n",
    "history = model.fit(\n",
    "    X_train, y_train,\n",
    "    validation_data=(X_val, y_val),\n",
    "    epochs=100,\n",
    "    batch_size=64,\n",
    "    callbacks=[early_stopping]\n",
    ")"
   ]
  },
  {
   "cell_type": "markdown",
   "id": "a5bc5ed0-403a-48ba-be87-cda5a1159fbb",
   "metadata": {},
   "source": [
    "### Evaluate on the test set"
   ]
  },
  {
   "cell_type": "code",
   "execution_count": 20,
   "id": "30d18c48-3fbb-42a0-acac-18803e889e35",
   "metadata": {},
   "outputs": [
    {
     "name": "stdout",
     "output_type": "stream",
     "text": [
      "4/4 [==============================] - 0s 2ms/step - loss: 0.2535 - accuracy: 0.9208\n",
      "Test Loss: 0.2535\n",
      "Test Accuracy: 0.9208\n"
     ]
    }
   ],
   "source": [
    "test_loss, test_accuracy = model.evaluate(X_test, y_test)\n",
    "print(f\"Test Loss: {test_loss:.4f}\")\n",
    "print(f\"Test Accuracy: {test_accuracy:.4f}\")"
   ]
  },
  {
   "cell_type": "code",
   "execution_count": 21,
   "id": "4f174ffc-4045-4aa7-b7bc-c012cc41ae35",
   "metadata": {},
   "outputs": [
    {
     "name": "stdout",
     "output_type": "stream",
     "text": [
      "4/4 [==============================] - 0s 1ms/step\n"
     ]
    },
    {
     "data": {
      "image/png": "[encoded data removed]",
      "text/plain": [
       "<Figure size 640x480 with 2 Axes>"
      ]
     },
     "metadata": {},
     "output_type": "display_data"
    }
   ],
   "source": [
    "# Make predictions on the test set\n",
    "y_pred_prob = model.predict(X_test)  # Output will be probabilities\n",
    "y_pred = np.argmax(y_pred_prob, axis=1)  # Convert probabilities to class indices\n",
    "\n",
    "\n",
    "# Generate the confusion matrix\n",
    "cm = confusion_matrix(y_test, y_pred)\n",
    "\n",
    "# Display the confusion matrix\n",
    "disp = ConfusionMatrixDisplay(confusion_matrix=cm, display_labels=sex_encoder.classes_)\n",
    "disp.plot(cmap=plt.cm.Blues, values_format='d')  # 'd' for integer format\n",
    "plt.title(\"Confusion Matrix\")\n",
    "plt.show()"
   ]
  },
  {
   "cell_type": "code",
   "execution_count": 22,
   "id": "356c8adb-f98f-4c81-bb26-7ec11d677785",
   "metadata": {},
   "outputs": [
    {
     "data": {
      "image/png": "[encoded data removed]",
      "text/plain": [
       "<Figure size 640x480 with 1 Axes>"
      ]
     },
     "metadata": {},
     "output_type": "display_data"
    },
    {
     "data": {
      "image/png": "[encoded data removed]",
      "text/plain": [
       "<Figure size 640x480 with 1 Axes>"
      ]
     },
     "metadata": {},
     "output_type": "display_data"
    }
   ],
   "source": [
    "# Plot loss\n",
    "plt.plot(history.history['loss'], label='Training Loss')\n",
    "plt.plot(history.history['val_loss'], label='Validation Loss')\n",
    "plt.xlabel('Epochs')\n",
    "plt.ylabel('Loss')\n",
    "plt.legend()\n",
    "plt.show()\n",
    "\n",
    "# Plot accuracy\n",
    "plt.plot(history.history['accuracy'], label='Training Accuracy')\n",
    "plt.plot(history.history['val_accuracy'], label='Validation Accuracy')\n",
    "plt.xlabel('Epochs')\n",
    "plt.ylabel('Accuracy')\n",
    "plt.legend()\n",
    "plt.show()"
   ]
  },
  {
   "cell_type": "markdown",
   "id": "905d0bb6-3cbb-4acf-9642-14c43c66d0ab",
   "metadata": {},
   "source": [
    "## Classify a set of audiofiles in a directory by this Neural Network\n",
    "the audio file can be named with the naming convention otherwise the arguments \"label_context, label_breed\" should be provided "
   ]
  },
  {
   "cell_type": "code",
   "execution_count": 23,
   "id": "9f2b7440-b48b-4be6-8bb1-064d21fcdecf",
   "metadata": {},
   "outputs": [],
   "source": [
    "def test_audio_files_from_directory_nn(directory: str, label_context: str = \"\", label_breed: str = \"\"):\n",
    "    test_files = os.listdir(directory)\n",
    "    predictions = []\n",
    "    for file in test_files:\n",
    "        split = file.split('_')\n",
    "        if label_context == \"\":\n",
    "            label_context = split[0]\n",
    "        if label_breed == \"\":\n",
    "            label_breed = split[2]\n",
    "        file_path = os.path.join(directory, file)\n",
    "        audio_data, sr = cleanse_audio(file_path)\n",
    "        features = extract_features_from_waveform(audio_data, sr)\n",
    "        \n",
    "        X_features = np.array([features])\n",
    "    \n",
    "        encoded_context = context_encoder.transform([label_context])\n",
    "        encoded_breed = breed_encoder.transform([label_breed])\n",
    "        \n",
    "        X_context = encoded_context.reshape(-1, 1)\n",
    "        X_breed = encoded_breed.reshape(-1, 1)\n",
    "        \n",
    "        X_combined = np.hstack([X_features, X_context, X_breed])\n",
    "        X_combined = scaler.transform(X_combined)\n",
    "        \n",
    "        prob_prediction = model.predict(X_combined)\n",
    "        predictions.append(sex_encoder.inverse_transform(np.argmax(prob_prediction, axis=1))[0])\n",
    "        \n",
    "    return predictions"
   ]
  },
  {
   "cell_type": "code",
   "execution_count": 24,
   "id": "9ec87aa1-336a-4fde-9c62-61bb29c40371",
   "metadata": {},
   "outputs": [
    {
     "name": "stdout",
     "output_type": "stream",
     "text": [
      "1/1 [==============================] - 0s 17ms/step\n",
      "1/1 [==============================] - 0s 15ms/step\n",
      "1/1 [==============================] - 0s 15ms/step\n"
     ]
    },
    {
     "data": {
      "text/plain": [
       "['M', 'F', 'M']"
      ]
     },
     "execution_count": 24,
     "metadata": {},
     "output_type": "execute_result"
    }
   ],
   "source": [
    "test_audio_files_from_directory_nn(\"testset/\")"
   ]
  },
  {
   "cell_type": "markdown",
   "id": "da6c642d-072b-48f7-9451-6b0322c9749c",
   "metadata": {},
   "source": [
    "## Procedures for less advanced classifiers"
   ]
  },
  {
   "cell_type": "markdown",
   "id": "ccc1a3fc-9bb0-452b-b0ee-d5d334b0d447",
   "metadata": {},
   "source": [
    "### Train any Classifier from sklearn"
   ]
  },
  {
   "cell_type": "code",
   "execution_count": 25,
   "id": "5e216e2f-d0fd-42fd-a8d5-82ec547570fc",
   "metadata": {},
   "outputs": [],
   "source": [
    "from sklearn.base import ClassifierMixin\n",
    "def train(Classifier: ClassifierMixin):\n",
    "    global X_tv, y_tv, X_train, y_train\n",
    "    Classifier.fit(X_train, y_train)\n",
    "    pred = Classifier.predict(X_tv)\n",
    "    train_acc = Classifier.score(X_train, y_train)\n",
    "    test_acc = Classifier.score(X_tv, y_tv)\n",
    "    return Classifier, train_acc, test_acc, pred"
   ]
  },
  {
   "cell_type": "markdown",
   "id": "27d88140-b994-4e61-966d-b69ca2c045ac",
   "metadata": {},
   "source": [
    "### Classify a set of audiofiles in a directory by a classifier\n",
    "the audio file can be named with the naming convention otherwise the arguments \"label_context, label_breed\" should be provided"
   ]
  },
  {
   "cell_type": "code",
   "execution_count": 26,
   "id": "e81bd882-ecc3-49c6-a0ab-4bbbd92b2eff",
   "metadata": {},
   "outputs": [],
   "source": [
    "def test_audio_files_from_directory_classifier(directory: str, Classifier: ClassifierMixin, label_context: str = \"\", label_breed: str = \"\"):\n",
    "    test_files = os.listdir(directory)\n",
    "    predictions = []\n",
    "    for file in test_files:\n",
    "        split = file.split('_')\n",
    "        if label_context == \"\":\n",
    "            label_context = split[0]\n",
    "        if label_breed == \"\":\n",
    "            label_breed = split[2]\n",
    "        file_path = os.path.join(directory, file)\n",
    "        audio_data, sr = cleanse_audio(file_path)\n",
    "        features = extract_features_from_waveform(audio_data, sr)\n",
    "        \n",
    "        X_features = np.array([features])\n",
    "    \n",
    "        encoded_context = context_encoder.transform([label_context])\n",
    "        encoded_breed = breed_encoder.transform([label_breed])\n",
    "        \n",
    "        X_context = encoded_context.reshape(-1, 1)\n",
    "        X_breed = encoded_breed.reshape(-1, 1)\n",
    "        \n",
    "        X_combined = np.hstack([X_features, X_context, X_breed])\n",
    "        X_combined = scaler.transform(X_combined)\n",
    "        \n",
    "        prediction = Classifier.predict(X_combined)\n",
    "        predictions.append(sex_encoder.inverse_transform(prediction))\n",
    "        \n",
    "    return predictions"
   ]
  },
  {
   "cell_type": "markdown",
   "id": "300e5e2d-c9fa-4ff6-bad2-8d02e1ae8baa",
   "metadata": {},
   "source": [
    "### Confusion Matrix for given predicion values"
   ]
  },
  {
   "cell_type": "code",
   "execution_count": 27,
   "id": "a399e73e-5cbd-419b-a785-9f17634d1c13",
   "metadata": {},
   "outputs": [],
   "source": [
    "def show_cmatrix(y_pred):\n",
    "    global y_tv\n",
    "    cm = confusion_matrix(y_tv, y_pred)\n",
    "    disp = ConfusionMatrixDisplay(confusion_matrix=cm, display_labels=sex_encoder.classes_)\n",
    "    disp.plot(cmap=plt.cm.Blues, values_format='d')  # 'd' for integer format\n",
    "    plt.title(\"Confusion Matrix\")\n",
    "    plt.show()"
   ]
  },
  {
   "cell_type": "markdown",
   "id": "2a6e2227-cd50-427d-9c4e-8a970eee55f8",
   "metadata": {},
   "source": [
    "## Simple classification"
   ]
  },
  {
   "cell_type": "markdown",
   "id": "1919c325-39af-48f0-a525-b165bc8043c5",
   "metadata": {},
   "source": [
    "### DecisionTreeClassifier"
   ]
  },
  {
   "cell_type": "code",
   "execution_count": 28,
   "id": "70484949-46b3-49cf-b7cf-61632be92bd0",
   "metadata": {},
   "outputs": [
    {
     "name": "stdout",
     "output_type": "stream",
     "text": [
      "0.8481308411214953\n",
      "0.7772277227722773\n"
     ]
    }
   ],
   "source": [
    "from sklearn.tree import DecisionTreeClassifier\n",
    "dtc, train_acc, test_acc, y_pred = train(DecisionTreeClassifier(random_state=0, max_depth=2, min_samples_leaf=10))\n",
    "print(train_acc)\n",
    "print(test_acc)"
   ]
  },
  {
   "cell_type": "code",
   "execution_count": 29,
   "id": "cf6fc875-1e02-48e1-bd1b-20e976f24a98",
   "metadata": {},
   "outputs": [
    {
     "data": {
      "text/plain": [
       "[Text(0.5, 0.8333333333333334, 'x[14] <= -0.305\\ngini = 0.499\\nsamples = 428\\nvalue = [222, 206]'),\n",
       " Text(0.25, 0.5, 'x[17] <= 0.412\\ngini = 0.133\\nsamples = 140\\nvalue = [10, 130]'),\n",
       " Text(0.375, 0.6666666666666667, 'True  '),\n",
       " Text(0.125, 0.16666666666666666, 'gini = 0.031\\nsamples = 125\\nvalue = [2, 123]'),\n",
       " Text(0.375, 0.16666666666666666, 'gini = 0.498\\nsamples = 15\\nvalue = [8, 7]'),\n",
       " Text(0.75, 0.5, 'x[12] <= 1.033\\ngini = 0.389\\nsamples = 288\\nvalue = [212, 76]'),\n",
       " Text(0.625, 0.6666666666666667, '  False'),\n",
       " Text(0.625, 0.16666666666666666, 'gini = 0.311\\nsamples = 254\\nvalue = [205, 49]'),\n",
       " Text(0.875, 0.16666666666666666, 'gini = 0.327\\nsamples = 34\\nvalue = [7, 27]')]"
      ]
     },
     "execution_count": 29,
     "metadata": {},
     "output_type": "execute_result"
    },
    {
     "data": {
      "image/png": "[encoded data removed]",
      "text/plain": [
       "<Figure size 640x480 with 1 Axes>"
      ]
     },
     "metadata": {},
     "output_type": "display_data"
    }
   ],
   "source": [
    "tree.plot_tree(dtc)"
   ]
  },
  {
   "cell_type": "code",
   "execution_count": 30,
   "id": "9d727594-a267-4b4b-bcbf-a68a682feea4",
   "metadata": {},
   "outputs": [
    {
     "data": {
      "image/png": "[encoded data removed]",
      "text/plain": [
       "<Figure size 640x480 with 2 Axes>"
      ]
     },
     "metadata": {},
     "output_type": "display_data"
    }
   ],
   "source": [
    "show_cmatrix(y_pred)"
   ]
  },
  {
   "cell_type": "code",
   "execution_count": 31,
   "id": "11a501d7-77d5-4590-b025-f554d59f5346",
   "metadata": {},
   "outputs": [
    {
     "data": {
      "text/plain": [
       "[array(['F'], dtype=object),\n",
       " array(['F'], dtype=object),\n",
       " array(['M'], dtype=object)]"
      ]
     },
     "execution_count": 31,
     "metadata": {},
     "output_type": "execute_result"
    }
   ],
   "source": [
    "test_audio_files_from_directory_classifier(\"testset/\", dtc)"
   ]
  },
  {
   "cell_type": "markdown",
   "id": "3b22deec-087f-4704-88b8-955e5d359949",
   "metadata": {},
   "source": [
    "### RandomForestClassifier"
   ]
  },
  {
   "cell_type": "code",
   "execution_count": 32,
   "id": "11e57700-5491-4c21-b05b-9478ef459790",
   "metadata": {},
   "outputs": [
    {
     "name": "stdout",
     "output_type": "stream",
     "text": [
      "0.8481308411214953\n",
      "0.8811881188118812\n"
     ]
    }
   ],
   "source": [
    "from sklearn.ensemble import RandomForestClassifier\n",
    "rfc, train_acc, test_acc, y_pred = train(RandomForestClassifier(max_depth=2, random_state=2))\n",
    "print(train_acc)\n",
    "print(test_acc)"
   ]
  },
  {
   "cell_type": "code",
   "execution_count": 33,
   "id": "29c6f962-a28f-4c0d-a146-ffb7d6504930",
   "metadata": {},
   "outputs": [
    {
     "data": {
      "image/png": "[encoded data removed]",
      "text/plain": [
       "<Figure size 640x480 with 2 Axes>"
      ]
     },
     "metadata": {},
     "output_type": "display_data"
    }
   ],
   "source": [
    "show_cmatrix(y_pred)"
   ]
  },
  {
   "cell_type": "code",
   "execution_count": 34,
   "id": "7ee6edf9-b8ba-4175-82a6-adbcfa9dda17",
   "metadata": {},
   "outputs": [
    {
     "data": {
      "text/plain": [
       "[array(['M'], dtype=object),\n",
       " array(['M'], dtype=object),\n",
       " array(['M'], dtype=object)]"
      ]
     },
     "execution_count": 34,
     "metadata": {},
     "output_type": "execute_result"
    }
   ],
   "source": [
    "test_audio_files_from_directory_classifier(\"testset/\", rfc)"
   ]
  },
  {
   "cell_type": "markdown",
   "id": "bf5283e9-3fce-414b-9194-d8b185aae585",
   "metadata": {},
   "source": [
    "### KNeighborsClassifier"
   ]
  },
  {
   "cell_type": "code",
   "execution_count": 35,
   "id": "dcdfba74-97e2-4719-aaf6-98b115ed61d2",
   "metadata": {},
   "outputs": [
    {
     "name": "stdout",
     "output_type": "stream",
     "text": [
      "0.9042056074766355\n",
      "0.8514851485148515\n"
     ]
    }
   ],
   "source": [
    "from sklearn.neighbors import KNeighborsClassifier\n",
    "neigh, train_acc, test_acc, y_pred = train(KNeighborsClassifier(n_neighbors=13))\n",
    "print(train_acc)\n",
    "print(test_acc)"
   ]
  },
  {
   "cell_type": "code",
   "execution_count": 36,
   "id": "b1df6269-57cc-4e70-9e4c-5bd667708566",
   "metadata": {},
   "outputs": [
    {
     "data": {
      "image/png": "[encoded data removed]",
      "text/plain": [
       "<Figure size 640x480 with 2 Axes>"
      ]
     },
     "metadata": {},
     "output_type": "display_data"
    }
   ],
   "source": [
    "show_cmatrix(y_pred)"
   ]
  },
  {
   "cell_type": "code",
   "execution_count": 37,
   "id": "a9156e3a-7e94-47cf-a61f-3c5ab85a432e",
   "metadata": {},
   "outputs": [
    {
     "data": {
      "text/plain": [
       "[array(['F'], dtype=object),\n",
       " array(['F'], dtype=object),\n",
       " array(['F'], dtype=object)]"
      ]
     },
     "execution_count": 37,
     "metadata": {},
     "output_type": "execute_result"
    }
   ],
   "source": [
    "test_audio_files_from_directory_classifier(\"testset/\", neigh)"
   ]
  },
  {
   "cell_type": "code",
   "execution_count": null,
   "id": "86c7785d-e2cc-4ed3-ac13-74560743e167",
   "metadata": {},
   "outputs": [],
   "source": []
  }
 ],
 "metadata": {
  "kernelspec": {
   "display_name": "Python 3 (ipykernel)",
   "language": "python",
   "name": "python3"
  },
  "language_info": {
   "codemirror_mode": {
    "name": "ipython",
    "version": 3
   },
   "file_extension": ".py",
   "mimetype": "text/x-python",
   "name": "python",
   "nbconvert_exporter": "python",
   "pygments_lexer": "ipython3",
   "version": "3.10.12"
  }
 },
 "nbformat": 4,
 "nbformat_minor": 5
}
