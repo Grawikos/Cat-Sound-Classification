{
 "cells": [
  {
   "cell_type": "markdown",
   "id": "e77358ce-2b59-4bc6-9efb-c80e0208ad79",
   "metadata": {},
   "source": [
    "# Classification of cats based on their meows"
   ]
  },
  {
   "cell_type": "code",
   "execution_count": 1,
   "id": "f10bc626-36e6-4af8-9a3e-591721aba58a",
   "metadata": {},
   "outputs": [],
   "source": [
    "import librosa\n",
    "import os\n",
    "import matplotlib.pyplot as plt\n",
    "import numpy as np\n",
    "import pandas as pd\n",
    "from sklearn.preprocessing import LabelEncoder\n",
    "from sklearn.metrics import confusion_matrix, ConfusionMatrixDisplay\n",
    "import tensorflow as tf\n",
    "from tensorflow.keras import layers, models\n",
    "from sklearn.model_selection import train_test_split\n",
    "from sklearn.preprocessing import StandardScaler\n",
    "import random\n",
    "from sklearn import tree"
   ]
  },
  {
   "cell_type": "markdown",
   "id": "0bcd3c90-9e8a-4b5c-9d2f-9e011c804958",
   "metadata": {},
   "source": [
    "## Define procedures"
   ]
  },
  {
   "cell_type": "markdown",
   "id": "bac513bd-48e4-48bf-b22d-b674087ca1b0",
   "metadata": {},
   "source": [
    "### 1. Extracting features from audio file used later for classification"
   ]
  },
  {
   "cell_type": "code",
   "execution_count": 2,
   "id": "d76bbd1f-8c62-4790-acf1-62b19da55b1e",
   "metadata": {},
   "outputs": [],
   "source": [
    "def extract_features_from_waveform(data, sr):\n",
    "    \"\"\"\n",
    "    Extracts features from a raw audio waveform.\n",
    "    \"\"\"\n",
    "    # Extract MFCCs\n",
    "    mfccs = librosa.feature.mfcc(y=data, sr=sr, n_mfcc=13).mean(axis=1)\n",
    "\n",
    "    # Extract Chroma features\n",
    "    chroma = librosa.feature.chroma_stft(y=data, sr=sr).mean(axis=1)\n",
    "\n",
    "    # Extract Spectral Contrast\n",
    "    spectral_contrast = librosa.feature.spectral_contrast(y=data, sr=sr).mean(axis=1)\n",
    "\n",
    "    # Combine all features\n",
    "    return np.hstack([mfccs, chroma, spectral_contrast])"
   ]
  },
  {
   "cell_type": "code",
   "execution_count": 3,
   "id": "f5b5c954-685b-482d-862b-d974c6908455",
   "metadata": {},
   "outputs": [],
   "source": [
    "def cleanse_audio(file_path, target_sample_rate=16000):\n",
    "    \"\"\"\n",
    "    Cleanses the audio file by performing the following:\n",
    "    - Resampling to the target sample rate\n",
    "    - Normalization\n",
    "    - Trimming silence\n",
    "    \"\"\"\n",
    "    # Load audio file\n",
    "    data, sr = librosa.load(file_path, sr=None)\n",
    "\n",
    "    # Trim silence from the beginning and end\n",
    "    data, _ = librosa.effects.trim(data)\n",
    "\n",
    "    # Resample to the target sample rate\n",
    "    if sr != target_sample_rate:\n",
    "        data = librosa.resample(data, orig_sr=sr, target_sr=target_sample_rate)\n",
    "        sr = target_sample_rate\n",
    "\n",
    "    # Normalize the audio to range [-1, 1]\n",
    "    data = librosa.util.normalize(data)\n",
    "\n",
    "    return data, sr"
   ]
  },
  {
   "cell_type": "code",
   "execution_count": 4,
   "id": "ba730bc0-cd00-42fa-b6b6-2da719baa5a2",
   "metadata": {},
   "outputs": [],
   "source": [
    "def check_ratio(data, target):\n",
    "    count = 0\n",
    "    for i in data:\n",
    "        if i == target:\n",
    "            count += 1\n",
    "    return (count / len(data))\n",
    "    "
   ]
  },
  {
   "cell_type": "code",
   "execution_count": 5,
   "id": "19ef715f-de86-493b-9212-810cd46bfd3e",
   "metadata": {},
   "outputs": [],
   "source": [
    "def divide_X_y(df):\n",
    "    X_features = np.array(df['features'].tolist())\n",
    "    \n",
    "    context_encoder = LabelEncoder()\n",
    "    breed_encoder = LabelEncoder()\n",
    "    sex_encoder = LabelEncoder()\n",
    "    \n",
    "    # Transform the categorical columns into integers\n",
    "    df['emission_context_encoded'] = context_encoder.fit_transform(df['emission_context'])\n",
    "    df['breed_encoded'] = breed_encoder.fit_transform(df['breed'])\n",
    "    \n",
    "    # Extract the encoded columns as arrays\n",
    "    X_context = df['emission_context_encoded'].to_numpy().reshape(-1, 1)\n",
    "    X_breed = df['breed_encoded'].to_numpy().reshape(-1, 1)\n",
    "    cat_id = df['cat_id'].to_numpy().reshape(-1, 1)\n",
    "    # Combine features with the encoded categorical data\n",
    "    X_combined = np.hstack([X_features, X_context, X_breed, cat_id])\n",
    "    \n",
    "    y = sex_encoder.fit_transform(df['sex'])  # Encode labels (sex)\n",
    "    return X_combined, y, context_encoder, breed_encoder, sex_encoder"
   ]
  },
  {
   "cell_type": "code",
   "execution_count": 6,
   "id": "ac5b771c-4e9f-4278-8c24-a19a652660a1",
   "metadata": {},
   "outputs": [],
   "source": [
    "def split_data(X_combined, y, by_cat_id: bool = False, make_random: bool = False):\n",
    "    state = 42\n",
    "    if make_random:\n",
    "        np.random.shuffle(X_combined)\n",
    "    if not by_cat_id:\n",
    "        X_train, X_temp, y_train, y_temp = train_test_split(X_combined, y, test_size=0.3, random_state=state)\n",
    "        X_val, X_test, y_val, y_test = train_test_split(X_temp, y_temp, test_size=0.5, random_state=state)\n",
    "    else:\n",
    "        perfect_num_for_test = 0.3 * len(X_combined)\n",
    "        num_for_test = 0\n",
    "        X_train_val = []\n",
    "        y_train_val = []\n",
    "        i = 0\n",
    "        seen_ids = set()\n",
    "        current_id = \"\"\n",
    "        while num_for_test < perfect_num_for_test:  \n",
    "            for cat in X_combined:\n",
    "                if cat[-1] not in seen_ids:\n",
    "                    seen_ids.add(cat[-1])\n",
    "                    current_id = cat[-1]\n",
    "                    break\n",
    "            for cat, i in zip(X_combined, y):\n",
    "                cat_id = cat[-1]\n",
    "                if cat_id == current_id:\n",
    "                    X_train_val.append(cat)\n",
    "                    y_train_val.append(i)\n",
    "                    num_for_test += 1\n",
    "        X_train = []\n",
    "        y_train = []\n",
    "        for cat, i in zip(X_combined, y):\n",
    "            if cat[-1] not in seen_ids:\n",
    "                X_train.append(cat)\n",
    "                y_train.append(i)\n",
    "        X_val, X_test, y_val, y_test = train_test_split(X_train_val, y_train_val, test_size=0.5, random_state=state)\n",
    "        \n",
    "        X_train = np.array(X_train)\n",
    "        X_val = np.array(X_val)\n",
    "        X_test = np.array(X_test)\n",
    "        y_train = np.array(y_train)\n",
    "        y_val = np.array(y_val)\n",
    "        y_test = np.array(y_test)\n",
    "    return X_train, y_train, X_val, y_val, X_test, y_test"
   ]
  },
  {
   "cell_type": "markdown",
   "id": "e758b9eb-7375-41ec-b13b-5eae493c7aa1",
   "metadata": {},
   "source": [
    "## Preprocess data\n",
    "### Since male meows are undersampled I will augment the data by duplicating every male sample with changed pitch"
   ]
  },
  {
   "cell_type": "code",
   "execution_count": 7,
   "id": "edb87d9b-c003-4928-895c-a7dc3d005755",
   "metadata": {
    "editable": true,
    "slideshow": {
     "slide_type": ""
    },
    "tags": []
   },
   "outputs": [],
   "source": [
    "DATA_DIR = \"../dataanalysis/dataset/dataset/\"\n",
    "audio_files = os.listdir(DATA_DIR)\n",
    "\n",
    "count_male = 0\n",
    "count_all = 0\n",
    "data = []\n",
    "count_files = len(audio_files)\n",
    "for file in audio_files:\n",
    "    count_all += 1\n",
    "    split = file.split('_')\n",
    "    label_context = split[0]\n",
    "    cat_id = split[1]\n",
    "    label_breed = split[2]\n",
    "    # label_sex = split[3]   # 4 classes\n",
    "    label_sex = split[3][0]  # 2 classes\n",
    "    file_path = os.path.join(DATA_DIR, file)\n",
    "\n",
    "    # Load and cleanse audio\n",
    "    audio_data, sr = cleanse_audio(file_path)\n",
    "\n",
    "    # Extract features for the original audio\n",
    "    features = extract_features_from_waveform(audio_data, sr)\n",
    "    data.append([features, label_context, label_breed, label_sex, cat_id])\n",
    "\n",
    "    # Augment male cat data\n",
    "    #if label_sex in ['MI', 'MN']:\n",
    "    if label_sex == 'M':\n",
    "        count_all += 2\n",
    "        count_male += 3\n",
    "        # Apply pitch shifting\n",
    "        data_shifted = librosa.effects.pitch_shift(audio_data, sr=sr, n_steps=2)\n",
    "        features_shifted = extract_features_from_waveform(data_shifted, sr)\n",
    "        time_stretched = librosa.effects.time_stretch(audio_data, rate=1.1) \n",
    "        features_stretched = extract_features_from_waveform(time_stretched, sr)\n",
    "        data.append([features_shifted, label_context, label_breed, label_sex, cat_id + 'A1'])\n",
    "        data.append([features_stretched, label_context, label_breed, label_sex, cat_id + 'A2'])\n",
    "\n",
    "df = pd.DataFrame(data, columns=['features', 'emission_context', 'breed', 'sex', 'cat_id'])"
   ]
  },
  {
   "cell_type": "markdown",
   "id": "7850ee85-1b97-40ae-9b32-6ba9820c5899",
   "metadata": {},
   "source": [
    "### Now this is the % of male samples"
   ]
  },
  {
   "cell_type": "code",
   "execution_count": 8,
   "id": "d0c74e14-ff9c-432f-8b46-b42c3df2d393",
   "metadata": {},
   "outputs": [
    {
     "data": {
      "text/plain": [
       "0.4523809523809524"
      ]
     },
     "execution_count": 8,
     "metadata": {},
     "output_type": "execute_result"
    }
   ],
   "source": [
    "count_male/count_all"
   ]
  },
  {
   "cell_type": "code",
   "execution_count": 9,
   "id": "061465b2-3cd2-468c-b33d-690e7b3d7d8f",
   "metadata": {
    "editable": true,
    "slideshow": {
     "slide_type": ""
    },
    "tags": []
   },
   "outputs": [],
   "source": [
    "X_combined, y, context_encoder, breed_encoder, sex_encoder = divide_X_y(df)"
   ]
  },
  {
   "cell_type": "code",
   "execution_count": 10,
   "id": "73a1d93f-557d-481e-9ec4-b8d54e09fb15",
   "metadata": {},
   "outputs": [],
   "source": [
    "X_train, y_train, X_val, y_val, X_test, y_test = split_data(X_combined, y, by_cat_id=True, make_random=True)"
   ]
  },
  {
   "cell_type": "code",
   "execution_count": 11,
   "id": "be4409ca-0c64-402e-a93f-c0c1fec455aa",
   "metadata": {},
   "outputs": [
    {
     "data": {
      "text/plain": [
       "0.5460992907801419"
      ]
     },
     "execution_count": 11,
     "metadata": {},
     "output_type": "execute_result"
    }
   ],
   "source": [
    "check_ratio(y_train, sex_encoder.transform(['F']))"
   ]
  },
  {
   "cell_type": "code",
   "execution_count": 12,
   "id": "cce61332-9bb7-41bc-b731-0041e4ac33e2",
   "metadata": {},
   "outputs": [
    {
     "data": {
      "text/plain": [
       "0.5384615384615384"
      ]
     },
     "execution_count": 12,
     "metadata": {},
     "output_type": "execute_result"
    }
   ],
   "source": [
    "check_ratio(y_test, sex_encoder.transform(['F']))"
   ]
  },
  {
   "cell_type": "code",
   "execution_count": 13,
   "id": "434edb5a-8925-43fd-9519-ce8569d03c26",
   "metadata": {},
   "outputs": [
    {
     "data": {
      "text/plain": [
       "0.5631067961165048"
      ]
     },
     "execution_count": 13,
     "metadata": {},
     "output_type": "execute_result"
    }
   ],
   "source": [
    "check_ratio(y_val, sex_encoder.transform(['F']))"
   ]
  },
  {
   "cell_type": "markdown",
   "id": "89e20718-52a9-4b88-a2c6-6cbd304f757e",
   "metadata": {},
   "source": [
    "### Remove sex label from data and scale it"
   ]
  },
  {
   "cell_type": "code",
   "execution_count": 14,
   "id": "e001e7f9-e493-4a44-81e8-c42897c26c98",
   "metadata": {},
   "outputs": [],
   "source": [
    "X_train = X_train[:, :-1]\n",
    "X_val = X_val[:, :-1]\n",
    "X_test = X_test[:, :-1]"
   ]
  },
  {
   "cell_type": "code",
   "execution_count": 15,
   "id": "589705df-da12-4a2c-bb27-fbb96335abcd",
   "metadata": {},
   "outputs": [],
   "source": [
    "scaler = StandardScaler()\n",
    "\n",
    "X_train = scaler.fit_transform(X_train)\n",
    "X_val = scaler.transform(X_val)\n",
    "X_test = scaler.transform(X_test)"
   ]
  },
  {
   "cell_type": "markdown",
   "id": "b47bcf7c-6f04-4549-873b-c5db75d37216",
   "metadata": {},
   "source": [
    "Used for classifiers without division for validation and testing"
   ]
  },
  {
   "cell_type": "code",
   "execution_count": 16,
   "id": "12ce86ca-e225-4bdf-b41f-ccd82c2001c1",
   "metadata": {},
   "outputs": [],
   "source": [
    "X_tv = np.concatenate((X_test, X_val))\n",
    "y_tv = np.concatenate((y_test, y_val))"
   ]
  },
  {
   "cell_type": "markdown",
   "id": "1e420adf-643a-4d20-b0b8-5961b493de51",
   "metadata": {},
   "source": [
    "## Neural Network with 2 hiden layers - 128 and 64 nodes"
   ]
  },
  {
   "cell_type": "code",
   "execution_count": 17,
   "id": "5f120b19-8c62-4796-8af1-6c624cb03085",
   "metadata": {},
   "outputs": [
    {
     "name": "stdout",
     "output_type": "stream",
     "text": [
      "Model: \"sequential\"\n",
      "_________________________________________________________________\n",
      " Layer (type)                Output Shape              Param #   \n",
      "=================================================================\n",
      " dense (Dense)               (None, 128)               4480      \n",
      "                                                                 \n",
      " dropout (Dropout)           (None, 128)               0         \n",
      "                                                                 \n",
      " dense_1 (Dense)             (None, 64)                8256      \n",
      "                                                                 \n",
      " dropout_1 (Dropout)         (None, 64)                0         \n",
      "                                                                 \n",
      " dense_2 (Dense)             (None, 2)                 130       \n",
      "                                                                 \n",
      "=================================================================\n",
      "Total params: 12866 (50.26 KB)\n",
      "Trainable params: 12866 (50.26 KB)\n",
      "Non-trainable params: 0 (0.00 Byte)\n",
      "_________________________________________________________________\n"
     ]
    }
   ],
   "source": [
    "model = models.Sequential([\n",
    "    layers.Input(shape=(X_train.shape[1],)),  # Input layer\n",
    "    layers.Dense(128, activation='relu'),  # Fully connected layer\n",
    "    layers.Dropout(0.3),  # Dropout to prevent overfitting\n",
    "    layers.Dense(64, activation='relu'),  # Second dense layer\n",
    "    layers.Dropout(0.3),\n",
    "    layers.Dense(len(np.unique(y)), activation='softmax')  # Output layer with softmax for classification\n",
    "])\n",
    "\n",
    "model.compile(optimizer='adam',\n",
    "              loss='sparse_categorical_crossentropy',\n",
    "              metrics=['accuracy'])\n",
    "\n",
    "model.summary()"
   ]
  },
  {
   "cell_type": "code",
   "execution_count": 31,
   "id": "610ab80f-5467-4084-a6ec-e7769575501f",
   "metadata": {},
   "outputs": [
    {
     "name": "stdout",
     "output_type": "stream",
     "text": [
      "Epoch 1/100\n",
      "7/7 [==============================] - 0s 14ms/step - loss: 0.7146 - accuracy: 0.5296 - val_loss: 0.7089 - val_accuracy: 0.5340\n",
      "Epoch 2/100\n",
      "7/7 [==============================] - 0s 11ms/step - loss: 0.7055 - accuracy: 0.5768 - val_loss: 0.7236 - val_accuracy: 0.4369\n",
      "Epoch 3/100\n",
      "7/7 [==============================] - 0s 8ms/step - loss: 0.6990 - accuracy: 0.5414 - val_loss: 0.7342 - val_accuracy: 0.3981\n",
      "Epoch 4/100\n",
      "7/7 [==============================] - 0s 6ms/step - loss: 0.6827 - accuracy: 0.5981 - val_loss: 0.7362 - val_accuracy: 0.4175\n",
      "Epoch 5/100\n",
      "7/7 [==============================] - 0s 6ms/step - loss: 0.6892 - accuracy: 0.6005 - val_loss: 0.7388 - val_accuracy: 0.4078\n",
      "Epoch 6/100\n",
      "7/7 [==============================] - 0s 6ms/step - loss: 0.6821 - accuracy: 0.6028 - val_loss: 0.7391 - val_accuracy: 0.4078\n"
     ]
    }
   ],
   "source": [
    "# Define early stopping\n",
    "early_stopping = tf.keras.callbacks.EarlyStopping(\n",
    "    monitor='val_loss',\n",
    "    patience=5,  # Stop training if validation loss doesn't improve for 5 epochs\n",
    "    restore_best_weights=True\n",
    ")\n",
    "\n",
    "# Train the model\n",
    "history = model.fit(\n",
    "    X_train, y_train,\n",
    "    validation_data=(X_val, y_val),\n",
    "    epochs=100,\n",
    "    batch_size=64,\n",
    "    callbacks=[early_stopping]\n",
    ")"
   ]
  },
  {
   "cell_type": "code",
   "execution_count": 32,
   "id": "30d18c48-3fbb-42a0-acac-18803e889e35",
   "metadata": {},
   "outputs": [
    {
     "name": "stdout",
     "output_type": "stream",
     "text": [
      "4/4 [==============================] - 0s 2ms/step - loss: 0.7128 - accuracy: 0.4904\n",
      "Test Loss: 0.7128\n",
      "Test Accuracy: 0.4904\n"
     ]
    }
   ],
   "source": [
    "# Evaluate on the test set\n",
    "test_loss, test_accuracy = model.evaluate(X_test, y_test)\n",
    "print(f\"Test Loss: {test_loss:.4f}\")\n",
    "print(f\"Test Accuracy: {test_accuracy:.4f}\")"
   ]
  },
  {
   "cell_type": "code",
   "execution_count": 33,
   "id": "4f174ffc-4045-4aa7-b7bc-c012cc41ae35",
   "metadata": {},
   "outputs": [
    {
     "name": "stdout",
     "output_type": "stream",
     "text": [
      "4/4 [==============================] - 0s 1ms/step\n"
     ]
    },
    {
     "data": {
      "image/png": "[encoded data removed]",
      "text/plain": [
       "<Figure size 640x480 with 2 Axes>"
      ]
     },
     "metadata": {},
     "output_type": "display_data"
    }
   ],
   "source": [
    "# Make predictions on the test set\n",
    "y_pred_prob = model.predict(X_test)  # Output will be probabilities\n",
    "y_pred = np.argmax(y_pred_prob, axis=1)  # Convert probabilities to class indices\n",
    "\n",
    "\n",
    "# Generate the confusion matrix\n",
    "cm = confusion_matrix(y_test, y_pred)\n",
    "\n",
    "# Display the confusion matrix\n",
    "disp = ConfusionMatrixDisplay(confusion_matrix=cm, display_labels=sex_encoder.classes_)\n",
    "disp.plot(cmap=plt.cm.Blues, values_format='d')  # 'd' for integer format\n",
    "plt.title(\"Confusion Matrix\")\n",
    "plt.show()"
   ]
  },
  {
   "cell_type": "code",
   "execution_count": 34,
   "id": "f01e262d-bc4d-40ed-9d1f-461e955d6227",
   "metadata": {},
   "outputs": [
    {
     "data": {
      "image/png": "[encoded data removed]",
      "text/plain": [
       "<Figure size 640x480 with 1 Axes>"
      ]
     },
     "metadata": {},
     "output_type": "display_data"
    },
    {
     "data": {
      "image/png": "[encoded data removed]",
      "text/plain": [
       "<Figure size 640x480 with 1 Axes>"
      ]
     },
     "metadata": {},
     "output_type": "display_data"
    }
   ],
   "source": [
    "# Plot loss\n",
    "plt.plot(history.history['loss'], label='Training Loss')\n",
    "plt.plot(history.history['val_loss'], label='Validation Loss')\n",
    "plt.xlabel('Epochs')\n",
    "plt.ylabel('Loss')\n",
    "plt.legend()\n",
    "plt.show()\n",
    "\n",
    "# Plot accuracy\n",
    "plt.plot(history.history['accuracy'], label='Training Accuracy')\n",
    "plt.plot(history.history['val_accuracy'], label='Validation Accuracy')\n",
    "plt.xlabel('Epochs')\n",
    "plt.ylabel('Accuracy')\n",
    "plt.legend()\n",
    "plt.show()"
   ]
  },
  {
   "cell_type": "code",
   "execution_count": 35,
   "id": "8c2ebce5-1413-4f8e-995b-98cac955585a",
   "metadata": {},
   "outputs": [],
   "source": [
    "def test_audio_files_from_directory_nn(directory: str, label_context: str = \"\", label_breed: str = \"\"):\n",
    "    test_files = os.listdir(directory)\n",
    "    predictions = []\n",
    "    for file in test_files:\n",
    "        split = file.split('_')\n",
    "        if label_context == \"\":\n",
    "            label_context = split[0]\n",
    "        if label_breed == \"\":\n",
    "            label_breed = split[2]\n",
    "        file_path = os.path.join(directory, file)\n",
    "        audio_data, sr = cleanse_audio(file_path)\n",
    "        features = extract_features_from_waveform(audio_data, sr)\n",
    "        \n",
    "        X_features = np.array([features])\n",
    "    \n",
    "        encoded_context = context_encoder.transform([label_context])\n",
    "        encoded_breed = breed_encoder.transform([label_breed])\n",
    "        \n",
    "        X_context = encoded_context.reshape(-1, 1)\n",
    "        X_breed = encoded_breed.reshape(-1, 1)\n",
    "        \n",
    "        X_combined = np.hstack([X_features, X_context, X_breed])\n",
    "        X_combined = scaler.transform(X_combined)\n",
    "        \n",
    "        prob_prediction = model.predict(X_combined)\n",
    "        predictions.append(sex_encoder.inverse_transform(np.argmax(prob_prediction, axis=1))[0])\n",
    "        \n",
    "    return predictions"
   ]
  },
  {
   "cell_type": "code",
   "execution_count": 36,
   "id": "9ec87aa1-336a-4fde-9c62-61bb29c40371",
   "metadata": {},
   "outputs": [
    {
     "name": "stdout",
     "output_type": "stream",
     "text": [
      "1/1 [==============================] - 0s 15ms/step\n",
      "1/1 [==============================] - 0s 15ms/step\n",
      "1/1 [==============================] - 0s 18ms/step\n"
     ]
    },
    {
     "data": {
      "text/plain": [
       "['F', 'F', 'F']"
      ]
     },
     "execution_count": 36,
     "metadata": {},
     "output_type": "execute_result"
    }
   ],
   "source": [
    "test_audio_files_from_directory_nn(\"../dataanalysis/dataset/testset/\")"
   ]
  },
  {
   "cell_type": "markdown",
   "id": "da6c642d-072b-48f7-9451-6b0322c9749c",
   "metadata": {},
   "source": [
    "# Now lets use less advanced classifiers"
   ]
  },
  {
   "cell_type": "code",
   "execution_count": 37,
   "id": "5e216e2f-d0fd-42fd-a8d5-82ec547570fc",
   "metadata": {},
   "outputs": [],
   "source": [
    "def train(Classifier):\n",
    "    global X_tv, y_tv, X_train, y_train\n",
    "    Classifier.fit(X_train, y_train)\n",
    "    correct = 0\n",
    "    pred = Classifier.predict(X_train)\n",
    "    for i in range(len(pred)):\n",
    "        if pred[i] == y_train[i]:\n",
    "            correct += 1\n",
    "    train_acc = correct / len(y_train)\n",
    "    pred = Classifier.predict(X_tv)\n",
    "    correct = 0\n",
    "    for i in range(len(pred)):\n",
    "        if pred[i] == y_tv[i]:\n",
    "            correct += 1\n",
    "    test_acc = correct / len(y_tv)\n",
    "    return Classifier, train_acc, test_acc"
   ]
  },
  {
   "cell_type": "code",
   "execution_count": 38,
   "id": "e81bd882-ecc3-49c6-a0ab-4bbbd92b2eff",
   "metadata": {},
   "outputs": [],
   "source": [
    "def test_audio_files_from_directory_classifier(directory: str, Classifier, label_context: str = \"\", label_breed: str = \"\"):\n",
    "    test_files = os.listdir(directory)\n",
    "    predictions = []\n",
    "    for file in test_files:\n",
    "        split = file.split('_')\n",
    "        if label_context == \"\":\n",
    "            label_context = split[0]\n",
    "        if label_breed == \"\":\n",
    "            label_breed = split[2]\n",
    "        file_path = os.path.join(directory, file)\n",
    "        audio_data, sr = cleanse_audio(file_path)\n",
    "        features = extract_features_from_waveform(audio_data, sr)\n",
    "        \n",
    "        X_features = np.array([features])\n",
    "    \n",
    "        encoded_context = context_encoder.transform([label_context])\n",
    "        encoded_breed = breed_encoder.transform([label_breed])\n",
    "        \n",
    "        X_context = encoded_context.reshape(-1, 1)\n",
    "        X_breed = encoded_breed.reshape(-1, 1)\n",
    "        \n",
    "        X_combined = np.hstack([X_features, X_context, X_breed])\n",
    "        X_combined = scaler.transform(X_combined)\n",
    "        \n",
    "        prediction = Classifier.predict(X_combined)\n",
    "        predictions.append(sex_encoder.inverse_transform(prediction))\n",
    "        \n",
    "    return predictions"
   ]
  },
  {
   "cell_type": "code",
   "execution_count": 39,
   "id": "70484949-46b3-49cf-b7cf-61632be92bd0",
   "metadata": {},
   "outputs": [
    {
     "name": "stdout",
     "output_type": "stream",
     "text": [
      "0.6382978723404256\n",
      "0.5265700483091788\n"
     ]
    }
   ],
   "source": [
    "from sklearn.tree import DecisionTreeClassifier\n",
    "dtc, train_acc, test_acc = train(DecisionTreeClassifier(random_state=0, max_depth=3, min_samples_split=10))\n",
    "print(train_acc)\n",
    "print(test_acc)\n"
   ]
  },
  {
   "cell_type": "code",
   "execution_count": 40,
   "id": "cf6fc875-1e02-48e1-bd1b-20e976f24a98",
   "metadata": {},
   "outputs": [
    {
     "data": {
      "text/plain": [
       "[Text(0.4090909090909091, 0.875, 'x[22] <= -1.398\\ngini = 0.496\\nsamples = 423\\nvalue = [231, 192]'),\n",
       " Text(0.18181818181818182, 0.625, 'x[16] <= 2.064\\ngini = 0.083\\nsamples = 23\\nvalue = [22, 1]'),\n",
       " Text(0.29545454545454547, 0.75, 'True  '),\n",
       " Text(0.09090909090909091, 0.375, 'gini = 0.0\\nsamples = 22\\nvalue = [22, 0]'),\n",
       " Text(0.2727272727272727, 0.375, 'gini = 0.0\\nsamples = 1\\nvalue = [0, 1]'),\n",
       " Text(0.6363636363636364, 0.625, 'x[4] <= -1.415\\ngini = 0.499\\nsamples = 400\\nvalue = [209, 191]'),\n",
       " Text(0.5227272727272727, 0.75, '  False'),\n",
       " Text(0.45454545454545453, 0.375, 'x[17] <= 1.769\\ngini = 0.399\\nsamples = 40\\nvalue = [11, 29]'),\n",
       " Text(0.36363636363636365, 0.125, 'gini = 0.339\\nsamples = 37\\nvalue = [8, 29]'),\n",
       " Text(0.5454545454545454, 0.125, 'gini = 0.0\\nsamples = 3\\nvalue = [3, 0]'),\n",
       " Text(0.8181818181818182, 0.375, 'x[5] <= -1.146\\ngini = 0.495\\nsamples = 360\\nvalue = [198.0, 162.0]'),\n",
       " Text(0.7272727272727273, 0.125, 'gini = 0.435\\nsamples = 47\\nvalue = [15, 32]'),\n",
       " Text(0.9090909090909091, 0.125, 'gini = 0.486\\nsamples = 313\\nvalue = [183, 130]')]"
      ]
     },
     "execution_count": 40,
     "metadata": {},
     "output_type": "execute_result"
    },
    {
     "data": {
      "image/png": "[encoded data removed]",
      "text/plain": [
       "<Figure size 640x480 with 1 Axes>"
      ]
     },
     "metadata": {},
     "output_type": "display_data"
    }
   ],
   "source": [
    "tree.plot_tree(dtc)"
   ]
  },
  {
   "cell_type": "code",
   "execution_count": 41,
   "id": "11e57700-5491-4c21-b05b-9478ef459790",
   "metadata": {},
   "outputs": [
    {
     "name": "stdout",
     "output_type": "stream",
     "text": [
      "0.7399527186761229\n",
      "0.5265700483091788\n"
     ]
    }
   ],
   "source": [
    "from sklearn.ensemble import RandomForestClassifier\n",
    "rfc, train_acc, test_acc = train(RandomForestClassifier(max_depth=3, random_state=2))\n",
    "print(train_acc)\n",
    "print(test_acc)"
   ]
  },
  {
   "cell_type": "code",
   "execution_count": 42,
   "id": "7ee6edf9-b8ba-4175-82a6-adbcfa9dda17",
   "metadata": {},
   "outputs": [
    {
     "data": {
      "text/plain": [
       "[array(['F'], dtype=object),\n",
       " array(['F'], dtype=object),\n",
       " array(['F'], dtype=object)]"
      ]
     },
     "execution_count": 42,
     "metadata": {},
     "output_type": "execute_result"
    }
   ],
   "source": [
    "test_audio_files_from_directory_classifier(\"../dataanalysis/dataset/testset/\", rfc)"
   ]
  },
  {
   "cell_type": "code",
   "execution_count": 43,
   "id": "d0fc2178-8bb9-4929-a4ac-d03b678430c7",
   "metadata": {},
   "outputs": [
    {
     "data": {
      "text/plain": [
       "[array(['F'], dtype=object),\n",
       " array(['F'], dtype=object),\n",
       " array(['F'], dtype=object)]"
      ]
     },
     "execution_count": 43,
     "metadata": {},
     "output_type": "execute_result"
    }
   ],
   "source": [
    "test_audio_files_from_directory_classifier(\"../dataanalysis/dataset/testset/\", dtc)"
   ]
  },
  {
   "cell_type": "code",
   "execution_count": null,
   "id": "46a72880-406f-4c14-b16f-5f0a44421dfc",
   "metadata": {},
   "outputs": [],
   "source": []
  }
 ],
 "metadata": {
  "kernelspec": {
   "display_name": "Python 3 (ipykernel)",
   "language": "python",
   "name": "python3"
  },
  "language_info": {
   "codemirror_mode": {
    "name": "ipython",
    "version": 3
   },
   "file_extension": ".py",
   "mimetype": "text/x-python",
   "name": "python",
   "nbconvert_exporter": "python",
   "pygments_lexer": "ipython3",
   "version": "3.10.12"
  }
 },
 "nbformat": 4,
 "nbformat_minor": 5
}
