{
 "cells": [
  {
   "cell_type": "code",
   "execution_count": 29,
   "id": "237e07a4-a3e7-409a-a3e9-537fce07be56",
   "metadata": {},
   "outputs": [
    {
     "ename": "ModuleNotFoundError",
     "evalue": "No module named 'matplotlib'",
     "output_type": "error",
     "traceback": [
      "\u001b[1;31m---------------------------------------------------------------------------\u001b[0m",
      "\u001b[1;31mModuleNotFoundError\u001b[0m                       Traceback (most recent call last)",
      "Cell \u001b[1;32mIn[29], line 4\u001b[0m\n\u001b[0;32m      2\u001b[0m \u001b[38;5;28;01mimport\u001b[39;00m \u001b[38;5;21;01mos\u001b[39;00m\n\u001b[0;32m      3\u001b[0m \u001b[38;5;28;01mfrom\u001b[39;00m \u001b[38;5;21;01mglob\u001b[39;00m \u001b[38;5;28;01mimport\u001b[39;00m glob\n\u001b[1;32m----> 4\u001b[0m \u001b[38;5;28;01mimport\u001b[39;00m \u001b[38;5;21;01mmatplotlib\u001b[39;00m\u001b[38;5;21;01m.\u001b[39;00m\u001b[38;5;21;01mpyplot\u001b[39;00m \u001b[38;5;28;01mas\u001b[39;00m \u001b[38;5;21;01mplt\u001b[39;00m\n",
      "\u001b[1;31mModuleNotFoundError\u001b[0m: No module named 'matplotlib'"
     ]
    }
   ],
   "source": [
    "import librosa\n",
    "import os\n",
    "from glob import glob\n",
    "import matplotlib.pyplot as plt"
   ]
  },
  {
   "cell_type": "code",
   "execution_count": 24,
   "id": "04519012-f1fd-4fa2-a3c0-c3bbc0c4f943",
   "metadata": {},
   "outputs": [],
   "source": [
    "DATA_DIR = \"C:/Users/grawi/Desktop/PythonProjects/dataanalysis/dataset/dataset/\"\n",
    "audio_file_paths = os.listdir(DATA_DIR)\n",
    "# 'F' : 'Waiting For Food', 'I' : 'Isolated in unfamiliar Environment', 'B' : 'Brushing'\n",
    "emission_context = {'F' : [], 'I' : [], 'B' : []}\n",
    "\n",
    "# breed (values: MC = Maine Coon; EU: European Shorthair);\n",
    "breed = {'MC' : [], 'EU' : []}\n",
    "#  FI = female, intact; FN: female, neutered; MI: male, intact; MN: male, neutered\n",
    "sex = {'FI': [], 'FN': [], 'MI': [], 'MN':[]}\n",
    "\n",
    "for file in audio_file_paths:\n",
    "    split = file.split('_')\n",
    "    if split[0] in emission_context.keys():\n",
    "        emission_context.get(split[0]).append(file)\n",
    "    \n",
    "    if split[2] in breed.keys():\n",
    "        breed.get(split[2]).append(file)\n",
    "\n",
    "    if split[3] in sex.keys():\n",
    "        sex.get(split[3]).append(file)"
   ]
  },
  {
   "cell_type": "code",
   "execution_count": 19,
   "id": "a7d781c0-b264-4cdb-937c-49e32f8ce337",
   "metadata": {},
   "outputs": [
    {
     "name": "stdout",
     "output_type": "stream",
     "text": [
      "Split data based on sex:\n",
      "    FI: 68, \n",
      "    FN: 277, \n",
      "    MI: 19, \n",
      "    MN: 76, \n",
      "    Split data based on breed:\n",
      "    MC: 188, \n",
      "    EU: 252\n",
      "    Split data based on comtext:\n",
      "    F: 92,\n",
      "    I: 221,\n",
      "    B: 127\n",
      "    \n"
     ]
    }
   ],
   "source": [
    "print(f\"\"\"Split data based on sex:\n",
    "    FI: {len(sex['FI'])}, \n",
    "    FN: {len(sex['FN'])}, \n",
    "    MI: {len(sex['MI'])}, \n",
    "    MN: {len(sex['MN'])}, \n",
    "    Split data based on breed:\n",
    "    MC: {len(breed['MC'])}, \n",
    "    EU: {len(breed['EU'])}\n",
    "    Split data based on comtext:\n",
    "    F: {len(emission_context['F'])},\n",
    "    I: {len(emission_context['I'])},\n",
    "    B: {len(emission_context['B'])}\n",
    "    \"\"\")"
   ]
  },
  {
   "cell_type": "code",
   "execution_count": 27,
   "id": "d210585a-4ec7-4bba-9e9c-d08f80e2c4ce",
   "metadata": {},
   "outputs": [],
   "source": [
    "example, sr = librosa.load(DATA_DIR+audio_files[0])"
   ]
  },
  {
   "cell_type": "code",
   "execution_count": null,
   "id": "106d9c79-964b-44cf-978e-77dd6548daec",
   "metadata": {},
   "outputs": [],
   "source": [
    "time = librosa.times_like(data, sr=sample_rate)\n",
    "\n",
    "# Plot the amplitude vs. time graph\n",
    "plt.figure(figsize=(12, 6))\n",
    "plt.plot(time, data, label=\"Waveform\")\n",
    "plt.title(\"Example Sound of Isolate\")\n",
    "plt.xlabel(\"Time (seconds)\")\n",
    "plt.ylabel(\"Amplitude\")\n",
    "plt.legend()\n",
    "plt.grid()\n",
    "plt.show()"
   ]
  }
 ],
 "metadata": {
  "kernelspec": {
   "display_name": "Python 3 (ipykernel)",
   "language": "python",
   "name": "python3"
  },
  "language_info": {
   "codemirror_mode": {
    "name": "ipython",
    "version": 3
   },
   "file_extension": ".py",
   "mimetype": "text/x-python",
   "name": "python",
   "nbconvert_exporter": "python",
   "pygments_lexer": "ipython3",
   "version": "3.10.12"
  }
 },
 "nbformat": 4,
 "nbformat_minor": 5
}
